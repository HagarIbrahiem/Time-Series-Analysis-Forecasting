{
  "metadata": {
    "kernelspec": {
      "language": "python",
      "display_name": "Python 3",
      "name": "python3"
    },
    "language_info": {
      "name": "python",
      "version": "3.11.11",
      "mimetype": "text/x-python",
      "codemirror_mode": {
        "name": "ipython",
        "version": 3
      },
      "pygments_lexer": "ipython3",
      "nbconvert_exporter": "python",
      "file_extension": ".py"
    },
    "kaggle": {
      "accelerator": "none",
      "dataSources": [],
      "dockerImageVersionId": 31012,
      "isInternetEnabled": true,
      "language": "python",
      "sourceType": "notebook",
      "isGpuEnabled": false
    },
    "colab": {
      "provenance": [],
      "include_colab_link": true
    }
  },
  "nbformat_minor": 0,
  "nbformat": 4,
  "cells": [
    {
      "cell_type": "markdown",
      "metadata": {
        "id": "view-in-github",
        "colab_type": "text"
      },
      "source": [
        "<a href=\"https://colab.research.google.com/github/HagarIbrahiem/Time-Series-Analysis-Forecasting/blob/main/1_Exploring_Dataset.ipynb\" target=\"_parent\"><img src=\"https://colab.research.google.com/assets/colab-badge.svg\" alt=\"Open In Colab\"/></a>"
      ]
    },
    {
      "cell_type": "markdown",
      "source": [
        "## Libs & APIs"
      ],
      "metadata": {
        "id": "eI4rMW6kNX1v"
      }
    },
    {
      "cell_type": "code",
      "source": [
        "!pip install gdown"
      ],
      "metadata": {
        "_uuid": "8f2839f25d086af736a60e9eeb907d3b93b6e0e5",
        "_cell_guid": "b1076dfc-b9ad-4769-8c92-a6c4dae69d19",
        "trusted": true,
        "execution": {
          "iopub.status.busy": "2025-04-23T19:48:24.762597Z",
          "iopub.execute_input": "2025-04-23T19:48:24.762966Z",
          "iopub.status.idle": "2025-04-23T19:48:30.254977Z",
          "shell.execute_reply.started": "2025-04-23T19:48:24.762941Z",
          "shell.execute_reply": "2025-04-23T19:48:30.253578Z"
        },
        "id": "Yt8jv2d4NX1x",
        "outputId": "0d110ddf-5aa3-4197-bce9-5d88640776f5"
      },
      "outputs": [
        {
          "name": "stdout",
          "text": "Requirement already satisfied: gdown in /usr/local/lib/python3.11/dist-packages (5.2.0)\nRequirement already satisfied: beautifulsoup4 in /usr/local/lib/python3.11/dist-packages (from gdown) (4.13.3)\nRequirement already satisfied: filelock in /usr/local/lib/python3.11/dist-packages (from gdown) (3.18.0)\nRequirement already satisfied: requests[socks] in /usr/local/lib/python3.11/dist-packages (from gdown) (2.32.3)\nRequirement already satisfied: tqdm in /usr/local/lib/python3.11/dist-packages (from gdown) (4.67.1)\nRequirement already satisfied: soupsieve>1.2 in /usr/local/lib/python3.11/dist-packages (from beautifulsoup4->gdown) (2.6)\nRequirement already satisfied: typing-extensions>=4.0.0 in /usr/local/lib/python3.11/dist-packages (from beautifulsoup4->gdown) (4.13.1)\nRequirement already satisfied: charset-normalizer<4,>=2 in /usr/local/lib/python3.11/dist-packages (from requests[socks]->gdown) (3.4.1)\nRequirement already satisfied: idna<4,>=2.5 in /usr/local/lib/python3.11/dist-packages (from requests[socks]->gdown) (3.10)\nRequirement already satisfied: urllib3<3,>=1.21.1 in /usr/local/lib/python3.11/dist-packages (from requests[socks]->gdown) (2.3.0)\nRequirement already satisfied: certifi>=2017.4.17 in /usr/local/lib/python3.11/dist-packages (from requests[socks]->gdown) (2025.1.31)\nRequirement already satisfied: PySocks!=1.5.7,>=1.5.6 in /usr/local/lib/python3.11/dist-packages (from requests[socks]->gdown) (1.7.1)\n",
          "output_type": "stream"
        }
      ],
      "execution_count": null
    },
    {
      "cell_type": "markdown",
      "source": [
        "## Load Data"
      ],
      "metadata": {
        "id": "2PdNLxy6NX1z"
      }
    },
    {
      "cell_type": "code",
      "source": [
        "# https://drive.google.com/file/d/1o8LO0br8RMQ0B0Wu43RrTN9LiBvutd_4/view?usp=sharing\n",
        "\n",
        "import gdown\n",
        "\n",
        "# Google Drive file ID\n",
        "file_id = '1o8LO0br8RMQ0B0Wu43RrTN9LiBvutd_4'\n",
        "\n",
        "# Create the download URL\n",
        "url = f'https://drive.google.com/uc?export=download&id={file_id}'\n",
        "\n",
        "# Download the file\n",
        "gdown.download(url, 'sales_data.parquet.gzip', quiet=False)\n"
      ],
      "metadata": {
        "trusted": true,
        "execution": {
          "iopub.status.busy": "2025-04-23T19:47:00.719728Z",
          "iopub.execute_input": "2025-04-23T19:47:00.720765Z",
          "iopub.status.idle": "2025-04-23T19:47:08.518061Z",
          "shell.execute_reply.started": "2025-04-23T19:47:00.720726Z",
          "shell.execute_reply": "2025-04-23T19:47:08.516905Z"
        },
        "id": "EMEJ0FUnNX1z",
        "outputId": "fa531a74-63a9-4737-912d-a331679b3390"
      },
      "outputs": [
        {
          "name": "stderr",
          "text": "Downloading...\nFrom (original): https://drive.google.com/uc?export=download&id=1o8LO0br8RMQ0B0Wu43RrTN9LiBvutd_4\nFrom (redirected): https://drive.google.com/uc?export=download&id=1o8LO0br8RMQ0B0Wu43RrTN9LiBvutd_4&confirm=t&uuid=cd7e142c-1394-435a-8caf-1d009532836a\nTo: /kaggle/working/sales_data.parquet.gzip\n100%|██████████| 698M/698M [00:03<00:00, 193MB/s] \n",
          "output_type": "stream"
        },
        {
          "execution_count": 17,
          "output_type": "execute_result",
          "data": {
            "text/plain": "'sales_data.parquet.gzip'"
          },
          "metadata": {}
        }
      ],
      "execution_count": null
    },
    {
      "cell_type": "code",
      "source": [
        "import pandas as pd\n",
        "\n",
        "# Read the .gzip Parquet file into a DataFrame\n",
        "_df = pd.read_parquet('sales_data.parquet.gzip')\n",
        "\n",
        "# Check the data\n",
        "_df.head()\n"
      ],
      "metadata": {
        "trusted": true,
        "execution": {
          "iopub.status.busy": "2025-04-23T19:49:19.986956Z",
          "iopub.execute_input": "2025-04-23T19:49:19.987429Z",
          "iopub.status.idle": "2025-04-23T19:49:32.841667Z",
          "shell.execute_reply.started": "2025-04-23T19:49:19.987382Z",
          "shell.execute_reply": "2025-04-23T19:49:32.840698Z"
        },
        "id": "Z5ssFiQRNX11",
        "outputId": "aae09c37-e84d-4292-8690-993ccc00f7e0"
      },
      "outputs": [
        {
          "execution_count": 3,
          "output_type": "execute_result",
          "data": {
            "text/plain": "    latitude  longitude  timestamp  product_id  quantity  total_amount\n0  23.669917 -97.455367 2023-10-05        1006       1.0         84.35\n1  23.659791 -97.396217 2023-10-05        1172       2.0        198.84\n2  23.674743 -97.357560 2023-10-05        1192      12.0       2706.72\n3  23.718871 -97.196633 2023-10-05        1246       1.0        332.16\n4  18.965386 -86.610368 2023-10-05          27       1.0         16.08",
            "text/html": "<div>\n<style scoped>\n    .dataframe tbody tr th:only-of-type {\n        vertical-align: middle;\n    }\n\n    .dataframe tbody tr th {\n        vertical-align: top;\n    }\n\n    .dataframe thead th {\n        text-align: right;\n    }\n</style>\n<table border=\"1\" class=\"dataframe\">\n  <thead>\n    <tr style=\"text-align: right;\">\n      <th></th>\n      <th>latitude</th>\n      <th>longitude</th>\n      <th>timestamp</th>\n      <th>product_id</th>\n      <th>quantity</th>\n      <th>total_amount</th>\n    </tr>\n  </thead>\n  <tbody>\n    <tr>\n      <th>0</th>\n      <td>23.669917</td>\n      <td>-97.455367</td>\n      <td>2023-10-05</td>\n      <td>1006</td>\n      <td>1.0</td>\n      <td>84.35</td>\n    </tr>\n    <tr>\n      <th>1</th>\n      <td>23.659791</td>\n      <td>-97.396217</td>\n      <td>2023-10-05</td>\n      <td>1172</td>\n      <td>2.0</td>\n      <td>198.84</td>\n    </tr>\n    <tr>\n      <th>2</th>\n      <td>23.674743</td>\n      <td>-97.357560</td>\n      <td>2023-10-05</td>\n      <td>1192</td>\n      <td>12.0</td>\n      <td>2706.72</td>\n    </tr>\n    <tr>\n      <th>3</th>\n      <td>23.718871</td>\n      <td>-97.196633</td>\n      <td>2023-10-05</td>\n      <td>1246</td>\n      <td>1.0</td>\n      <td>332.16</td>\n    </tr>\n    <tr>\n      <th>4</th>\n      <td>18.965386</td>\n      <td>-86.610368</td>\n      <td>2023-10-05</td>\n      <td>27</td>\n      <td>1.0</td>\n      <td>16.08</td>\n    </tr>\n  </tbody>\n</table>\n</div>"
          },
          "metadata": {}
        }
      ],
      "execution_count": null
    },
    {
      "cell_type": "code",
      "source": [
        "df= _df.copy()"
      ],
      "metadata": {
        "trusted": true,
        "execution": {
          "iopub.status.busy": "2025-04-23T19:49:41.430121Z",
          "iopub.execute_input": "2025-04-23T19:49:41.430518Z",
          "iopub.status.idle": "2025-04-23T19:49:43.766209Z",
          "shell.execute_reply.started": "2025-04-23T19:49:41.430492Z",
          "shell.execute_reply": "2025-04-23T19:49:43.765114Z"
        },
        "id": "AqRqqmSTNX11"
      },
      "outputs": [],
      "execution_count": null
    },
    {
      "cell_type": "markdown",
      "source": [
        "##  Data Validation"
      ],
      "metadata": {
        "id": "4H8K5DQYNX12"
      }
    },
    {
      "cell_type": "code",
      "source": [
        "df.shape"
      ],
      "metadata": {
        "trusted": true,
        "execution": {
          "iopub.status.busy": "2025-04-23T19:49:43.767866Z",
          "iopub.execute_input": "2025-04-23T19:49:43.768264Z",
          "iopub.status.idle": "2025-04-23T19:49:43.774333Z",
          "shell.execute_reply.started": "2025-04-23T19:49:43.768207Z",
          "shell.execute_reply": "2025-04-23T19:49:43.773490Z"
        },
        "id": "rlOO1rVMNX13",
        "outputId": "320aad40-1820-473f-a52c-8b34d058b565"
      },
      "outputs": [
        {
          "execution_count": 6,
          "output_type": "execute_result",
          "data": {
            "text/plain": "(127183326, 6)"
          },
          "metadata": {}
        }
      ],
      "execution_count": null
    },
    {
      "cell_type": "code",
      "source": [
        "# Check the data type of the 'timestamp' column\n",
        "print(df['timestamp'].dtype)"
      ],
      "metadata": {
        "trusted": true,
        "execution": {
          "iopub.status.busy": "2025-04-23T19:49:53.769126Z",
          "iopub.execute_input": "2025-04-23T19:49:53.769530Z",
          "iopub.status.idle": "2025-04-23T19:49:53.776955Z",
          "shell.execute_reply.started": "2025-04-23T19:49:53.769502Z",
          "shell.execute_reply": "2025-04-23T19:49:53.775428Z"
        },
        "id": "ruxbYzrSNX14",
        "outputId": "068a3350-0414-414c-c1a8-0d15eb82aba5"
      },
      "outputs": [
        {
          "name": "stdout",
          "text": "datetime64[ns]\n",
          "output_type": "stream"
        }
      ],
      "execution_count": null
    },
    {
      "cell_type": "code",
      "source": [
        "# Get the minimum and maximum timestamp in awhole dataset\n",
        "min_timestamp = df['timestamp'].min()\n",
        "max_timestamp = df['timestamp'].max()\n",
        "\n",
        "print(\"Minimum Timestamp:\", min_timestamp)\n",
        "print(\"Maximum Timestamp:\", max_timestamp)\n"
      ],
      "metadata": {
        "trusted": true,
        "execution": {
          "iopub.status.busy": "2025-04-23T19:49:59.031534Z",
          "iopub.execute_input": "2025-04-23T19:49:59.031914Z",
          "iopub.status.idle": "2025-04-23T19:49:59.782594Z",
          "shell.execute_reply.started": "2025-04-23T19:49:59.031876Z",
          "shell.execute_reply": "2025-04-23T19:49:59.781642Z"
        },
        "id": "bnRL1g8hNX14",
        "outputId": "07bcb2c1-69da-44ad-9e0e-805bbddc065c"
      },
      "outputs": [
        {
          "name": "stdout",
          "text": "Minimum Timestamp: 2023-10-05 00:00:00\nMaximum Timestamp: 2024-08-21 23:59:00\n",
          "output_type": "stream"
        }
      ],
      "execution_count": null
    },
    {
      "cell_type": "code",
      "source": [
        "# Check for missing values\n",
        "df.isnull().sum()"
      ],
      "metadata": {
        "trusted": true,
        "execution": {
          "iopub.status.busy": "2025-04-23T19:49:59.783771Z",
          "iopub.execute_input": "2025-04-23T19:49:59.784000Z",
          "iopub.status.idle": "2025-04-23T19:50:02.147734Z",
          "shell.execute_reply.started": "2025-04-23T19:49:59.783982Z",
          "shell.execute_reply": "2025-04-23T19:50:02.146662Z"
        },
        "id": "VjFKgbzJNX15",
        "outputId": "0aa36c84-d462-4af0-c3ad-0dc8285e7826"
      },
      "outputs": [
        {
          "execution_count": 9,
          "output_type": "execute_result",
          "data": {
            "text/plain": "latitude              0\nlongitude             0\ntimestamp             0\nproduct_id            0\nquantity        6345474\ntotal_amount    6345474\ndtype: int64"
          },
          "metadata": {}
        }
      ],
      "execution_count": null
    },
    {
      "cell_type": "code",
      "source": [
        "#Check the Timestamp Distribution of Missing Data\n",
        "# Filter rows with missing quantity or total_amount\n",
        "missing_data = df[df['quantity'].isnull() | df['total_amount'].isnull()]\n",
        "missing_min = missing_data['timestamp'].min()\n",
        "missing_max = missing_data['timestamp'].max()\n",
        "\n",
        "print(f\"Missing data ranges from {missing_min} to {missing_max}\")\n"
      ],
      "metadata": {
        "trusted": true,
        "execution": {
          "iopub.status.busy": "2025-04-23T19:50:02.149293Z",
          "iopub.execute_input": "2025-04-23T19:50:02.149634Z",
          "iopub.status.idle": "2025-04-23T19:50:03.937113Z",
          "shell.execute_reply.started": "2025-04-23T19:50:02.149610Z",
          "shell.execute_reply": "2025-04-23T19:50:03.936233Z"
        },
        "id": "XXHS6eNoNX16",
        "outputId": "1aa820aa-f4f9-4873-dcea-1a4ee3ad99e5"
      },
      "outputs": [
        {
          "name": "stdout",
          "text": "Missing data ranges from 2023-10-05 00:01:00 to 2024-08-21 23:59:00\n",
          "output_type": "stream"
        }
      ],
      "execution_count": null
    },
    {
      "cell_type": "code",
      "source": [
        "# Count missing records per day\n",
        "missing_by_day = missing_data['timestamp'].dt.date.value_counts().sort_index()\n",
        "\n",
        "# Display\n",
        "print(missing_by_day)\n"
      ],
      "metadata": {
        "trusted": true,
        "execution": {
          "iopub.status.busy": "2025-04-23T19:50:08.448259Z",
          "iopub.execute_input": "2025-04-23T19:50:08.448675Z",
          "iopub.status.idle": "2025-04-23T19:50:10.536031Z",
          "shell.execute_reply.started": "2025-04-23T19:50:08.448646Z",
          "shell.execute_reply": "2025-04-23T19:50:10.535087Z"
        },
        "id": "p523r5DWNX16",
        "outputId": "fec8b807-f13e-4ee2-b7b1-2e45f590e5ad"
      },
      "outputs": [
        {
          "name": "stdout",
          "text": "timestamp\n2023-10-05     2983\n2023-10-06     3123\n2023-10-07     3234\n2023-10-08     2299\n2023-10-09     2580\n              ...  \n2024-08-17    37976\n2024-08-18    30780\n2024-08-19    28826\n2024-08-20    29787\n2024-08-21    30416\nName: count, Length: 298, dtype: int64\n",
          "output_type": "stream"
        }
      ],
      "execution_count": null
    },
    {
      "cell_type": "code",
      "source": [
        "#Check if missingness is tied to specific products\n",
        "missing_data['product_id'].value_counts().head(10)"
      ],
      "metadata": {
        "trusted": true,
        "execution": {
          "iopub.status.busy": "2025-04-23T19:50:15.183568Z",
          "iopub.execute_input": "2025-04-23T19:50:15.183946Z",
          "iopub.status.idle": "2025-04-23T19:50:15.250369Z",
          "shell.execute_reply.started": "2025-04-23T19:50:15.183916Z",
          "shell.execute_reply": "2025-04-23T19:50:15.249297Z"
        },
        "id": "wxalW-KLNX16",
        "outputId": "0ea31e75-6538-450c-b18a-b212f09439b2"
      },
      "outputs": [
        {
          "execution_count": 12,
          "output_type": "execute_result",
          "data": {
            "text/plain": "product_id\n27      674838\n1236    185326\n1001    147361\n1006    139666\n1029    131477\n1016    122651\n23      120069\n258     112904\n896      99978\n24       98657\nName: count, dtype: int64"
          },
          "metadata": {}
        }
      ],
      "execution_count": null
    },
    {
      "cell_type": "code",
      "source": [
        "# Top products in entire dataset (not just missing)\n",
        "df['product_id'].value_counts().head(10)"
      ],
      "metadata": {
        "trusted": true,
        "execution": {
          "iopub.status.busy": "2025-04-23T19:50:15.715282Z",
          "iopub.execute_input": "2025-04-23T19:50:15.716780Z",
          "iopub.status.idle": "2025-04-23T19:50:16.490956Z",
          "shell.execute_reply.started": "2025-04-23T19:50:15.716743Z",
          "shell.execute_reply": "2025-04-23T19:50:16.489982Z"
        },
        "id": "NLzBQph1NX17",
        "outputId": "4229b1c9-ab75-4b08-958d-b90900c7b6cb"
      },
      "outputs": [
        {
          "execution_count": 13,
          "output_type": "execute_result",
          "data": {
            "text/plain": "product_id\n27      13529117\n1236     3720349\n1001     2956733\n1006     2781964\n1029     2638697\n1016     2448181\n23       2407371\n258      2265529\n896      2005767\n24       1977944\nName: count, dtype: int64"
          },
          "metadata": {}
        }
      ],
      "execution_count": null
    },
    {
      "cell_type": "code",
      "source": [
        "#Check if it's tied to specific stores (lat/lon)\n",
        "missing_data.groupby(['latitude', 'longitude']).size().sort_values(ascending=False).head(10)\n"
      ],
      "metadata": {
        "trusted": true,
        "execution": {
          "iopub.status.busy": "2025-04-23T19:50:27.676162Z",
          "iopub.execute_input": "2025-04-23T19:50:27.676583Z",
          "iopub.status.idle": "2025-04-23T19:50:28.167089Z",
          "shell.execute_reply.started": "2025-04-23T19:50:27.676556Z",
          "shell.execute_reply": "2025-04-23T19:50:28.166278Z"
        },
        "id": "RyoeKMwZNX17",
        "outputId": "c6cae636-9a9a-42e7-f91c-717e4ae47997"
      },
      "outputs": [
        {
          "execution_count": 14,
          "output_type": "execute_result",
          "data": {
            "text/plain": "latitude   longitude  \n19.138962  -83.769004     11256\n30.477621  -113.927027     9667\n29.895531  -113.698180     9379\n23.648110  -97.329739      9152\n23.650836  -97.334512      9028\n23.691723  -97.326525      8681\n23.714670  -97.272871      8654\n23.709781  -97.347208      8563\n30.341738  -114.057171     8561\n23.689374  -97.351897      8546\ndtype: int64"
          },
          "metadata": {}
        }
      ],
      "execution_count": null
    },
    {
      "cell_type": "markdown",
      "source": [
        "**let's visualize geographic distribution of missingness**"
      ],
      "metadata": {
        "id": "ZZfx8c3kNX18"
      }
    },
    {
      "cell_type": "code",
      "source": [
        "# Filter missing rows\n",
        "missing_data = df[df['quantity'].isnull() | df['total_amount'].isnull()]\n",
        "\n",
        "# Group by latitude and longitude, count occurrences\n",
        "missing_location_counts = (\n",
        "    missing_data.groupby(['latitude', 'longitude'])\n",
        "    .size()\n",
        "    .reset_index(name='missing_count')\n",
        ")\n",
        "\n",
        "import folium\n",
        "from folium.plugins import HeatMap\n",
        "\n",
        "# Center of the map\n",
        "map_center = [missing_location_counts['latitude'].mean(), missing_location_counts['longitude'].mean()]\n",
        "m = folium.Map(location=map_center, zoom_start=5)\n",
        "\n",
        "# Add heatmap\n",
        "heat_data = [[row['latitude'], row['longitude'], row['missing_count']] for _, row in missing_location_counts.iterrows()]\n",
        "HeatMap(heat_data, radius=18).add_to(m)\n",
        "\n",
        "m  # Show map\n"
      ],
      "metadata": {
        "trusted": true,
        "execution": {
          "iopub.status.busy": "2025-04-23T19:50:31.048610Z",
          "iopub.execute_input": "2025-04-23T19:50:31.049017Z",
          "iopub.status.idle": "2025-04-23T19:50:34.084290Z",
          "shell.execute_reply.started": "2025-04-23T19:50:31.048989Z",
          "shell.execute_reply": "2025-04-23T19:50:34.083275Z"
        },
        "id": "WYwuPMM2NX18",
        "outputId": "2ab04d62-1cef-4ebf-9dc7-7b84b6bc2979"
      },
      "outputs": [
        {
          "execution_count": 15,
          "output_type": "execute_result",
          "data": {
            "text/plain": "<folium.folium.Map at 0x7bf0c2cfa510>",
            "text/html": "<div style=\"width:100%;\"><div style=\"position:relative;width:100%;height:0;padding-bottom:60%;\"><span style=\"color:#565656\">Make this Notebook Trusted to load map: File -> Trust Notebook</span><iframe srcdoc=\"&lt;!DOCTYPE html&gt;\n&lt;html&gt;\n&lt;head&gt;\n    \n    &lt;meta http-equiv=&quot;content-type&quot; content=&quot;text/html; charset=UTF-8&quot; /&gt;\n    \n        &lt;script&gt;\n            L_NO_TOUCH = false;\n            L_DISABLE_3D = false;\n        &lt;/script&gt;\n    \n    &lt;style&gt;html, body {width: 100%;height: 100%;margin: 0;padding: 0;}&lt;/style&gt;\n    &lt;style&gt;#map {position:absolute;top:0;bottom:0;right:0;left:0;}&lt;/style&gt;\n    &lt;script src=&quot;https://cdn.jsdelivr.net/npm/leaflet@1.9.3/dist/leaflet.js&quot;&gt;&lt;/script&gt;\n    &lt;script src=&quot;https://code.jquery.com/jquery-3.7.1.min.js&quot;&gt;&lt;/script&gt;\n    &lt;script src=&quot;https://cdn.jsdelivr.net/npm/bootstrap@5.2.2/dist/js/bootstrap.bundle.min.js&quot;&gt;&lt;/script&gt;\n    &lt;script src=&quot;https://cdnjs.cloudflare.com/ajax/libs/Leaflet.awesome-markers/2.0.2/leaflet.awesome-markers.js&quot;&gt;&lt;/script&gt;\n    &lt;link rel=&quot;stylesheet&quot; href=&quot;https://cdn.jsdelivr.net/npm/leaflet@1.9.3/dist/leaflet.css&quot;/&gt;\n    &lt;link rel=&quot;stylesheet&quot; href=&quot;https://cdn.jsdelivr.net/npm/bootstrap@5.2.2/dist/css/bootstrap.min.css&quot;/&gt;\n    &lt;link rel=&quot;stylesheet&quot; href=&quot;https://netdna.bootstrapcdn.com/bootstrap/3.0.0/css/bootstrap-glyphicons.css&quot;/&gt;\n    &lt;link rel=&quot;stylesheet&quot; href=&quot;https://cdn.jsdelivr.net/npm/@fortawesome/fontawesome-free@6.2.0/css/all.min.css&quot;/&gt;\n    &lt;link rel=&quot;stylesheet&quot; href=&quot;https://cdnjs.cloudflare.com/ajax/libs/Leaflet.awesome-markers/2.0.2/leaflet.awesome-markers.css&quot;/&gt;\n    &lt;link rel=&quot;stylesheet&quot; href=&quot;https://cdn.jsdelivr.net/gh/python-visualization/folium/folium/templates/leaflet.awesome.rotate.min.css&quot;/&gt;\n    \n            &lt;meta name=&quot;viewport&quot; content=&quot;width=device-width,\n                initial-scale=1.0, maximum-scale=1.0, user-scalable=no&quot; /&gt;\n            &lt;style&gt;\n                #map_39dd540398ab33b067ca7e5e0bed4490 {\n                    position: relative;\n                    width: 100.0%;\n                    height: 100.0%;\n                    left: 0.0%;\n                    top: 0.0%;\n                }\n                .leaflet-container { font-size: 1rem; }\n            &lt;/style&gt;\n        \n    &lt;script src=&quot;https://cdn.jsdelivr.net/gh/python-visualization/folium@main/folium/templates/leaflet_heat.min.js&quot;&gt;&lt;/script&gt;\n&lt;/head&gt;\n&lt;body&gt;\n    \n    \n            &lt;div class=&quot;folium-map&quot; id=&quot;map_39dd540398ab33b067ca7e5e0bed4490&quot; &gt;&lt;/div&gt;\n        \n&lt;/body&gt;\n&lt;script&gt;\n    \n    \n            var map_39dd540398ab33b067ca7e5e0bed4490 = L.map(\n                &quot;map_39dd540398ab33b067ca7e5e0bed4490&quot;,\n                {\n                    center: [23.25107067816085, -98.03315910451995],\n                    crs: L.CRS.EPSG3857,\n                    ...{\n  &quot;zoom&quot;: 5,\n  &quot;zoomControl&quot;: true,\n  &quot;preferCanvas&quot;: false,\n}\n\n                }\n            );\n\n            \n\n        \n    \n            var tile_layer_79848f397477808215f43f5434ddab38 = L.tileLayer(\n                &quot;https://tile.openstreetmap.org/{z}/{x}/{y}.png&quot;,\n                {\n  &quot;minZoom&quot;: 0,\n  &quot;maxZoom&quot;: 19,\n  &quot;maxNativeZoom&quot;: 19,\n  &quot;noWrap&quot;: false,\n  &quot;attribution&quot;: &quot;\\u0026copy; \\u003ca href=\\&quot;https://www.openstreetmap.org/copyright\\&quot;\\u003eOpenStreetMap\\u003c/a\\u003e contributors&quot;,\n  &quot;subdomains&quot;: &quot;abc&quot;,\n  &quot;detectRetina&quot;: false,\n  &quot;tms&quot;: false,\n  &quot;opacity&quot;: 1,\n}\n\n            );\n        \n    \n            tile_layer_79848f397477808215f43f5434ddab38.addTo(map_39dd540398ab33b067ca7e5e0bed4490);\n        \n    \n            var heat_map_76b24769332bd9330b52ed18dd0963a6 = L.heatLayer(\n                [[17.0767757, -95.1243532, 1809.0], [17.29985206, -96.10618902, 2313.0], [17.30393727, -96.18008959, 7022.0], [17.30572968, -96.16929872, 3303.0], [17.3063161, -96.2340711, 2326.0], [17.30740731, -96.14334376, 2848.0], [17.30773405, -96.12442923, 3243.0], [17.30815448, -96.1734778, 3509.0], [17.30849599, -96.15089343, 2370.0], [17.31105069, -96.11053528, 3065.0], [17.31350861, -96.25909246, 1769.0], [17.31571364, -96.11303818, 2818.0], [17.31585098, -96.11120119, 2938.0], [17.31600456, -96.22250463, 3086.0], [17.32391564, -96.13848402, 4094.0], [17.32456992, -96.10837065, 3045.0], [17.32467315, -96.12452169, 3534.0], [17.33031446, -96.16494641, 2242.0], [17.33125879, -96.24696908, 2439.0], [17.33595597, -96.18037305, 3211.0], [17.33655682, -96.19290903, 4254.0], [17.33930248, -96.19018604, 4395.0], [17.34316978, -96.12614585, 4859.0], [17.34369345, -96.18965967, 3368.0], [17.3452386, -96.16748554, 2564.0], [17.34560132, -87.72460318, 1892.0], [17.34609206, -87.73088565, 2279.0], [17.34830333, -96.18542689, 3249.0], [17.34880442, -96.13382817, 3055.0], [17.351645, -96.185858, 3002.0], [17.35315483, -96.21629761, 2304.0], [17.35410187, -96.1755668, 2615.0], [17.35463992, -96.16356606, 3826.0], [17.35708466, -96.30006687, 1970.0], [17.3581816, -96.12829734, 2992.0], [17.36051564, -96.14737438, 2848.0], [17.36176392, -96.26808037, 4106.0], [17.36500496, -96.16319551, 3641.0], [17.3661456, -96.17706883, 4664.0], [17.36683382, -96.26368361, 3277.0], [17.3676027, -96.18879822, 3595.0], [17.36872162, -96.14538434, 2741.0], [17.36887631, -96.22291486, 2595.0], [17.36987451, -95.99536618, 1533.0], [17.37176366, -96.17073336, 3648.0], [17.3724463, -96.20686132, 2992.0], [17.37278516, -96.19931234, 2364.0], [17.37412062, -96.16059277, 2603.0], [17.37468137, -96.18802674, 3075.0], [17.37833996, -96.18757559, 2760.0], [17.37959994, -96.13758689, 2521.0], [17.38083891, -96.18121974, 5302.0], [17.38203952, -96.18455586, 3374.0], [17.38246045, -96.15195665, 2367.0], [17.38538839, -96.18775535, 2988.0], [17.38630147, -96.15179715, 2839.0], [17.3906589, -96.16305024, 3158.0], [17.39352004, -96.17593684, 4794.0], [17.39567329, -96.1743057, 3509.0], [17.39597704, -96.18556636, 4229.0], [17.39725126, -96.17106597, 3808.0], [17.3975256, -96.21736, 3003.0], [17.39802133, -96.14779719, 3529.0], [17.39888124, -96.18409652, 3436.0], [17.40053707, -96.17224251, 3915.0], [17.40083047, -96.18781081, 3964.0], [17.4011053, -96.16230012, 3216.0], [17.4012601, -96.18824345, 2902.0], [17.40146387, -96.19192583, 4076.0], [17.4015005, -96.20145474, 2593.0], [17.40183461, -96.17098088, 4497.0], [17.4019266, -96.15573804, 3271.0], [17.40208094, -96.18867473, 4923.0], [17.40219955, -96.16955509, 3598.0], [17.40272542, -96.17306151, 3599.0], [17.4030511, -96.1807554, 3652.0], [17.40394727, -96.18620037, 3164.0], [17.40437316, -96.17856817, 3794.0], [17.40496697, -96.16280577, 4975.0], [17.40603716, -96.15561879, 4516.0], [17.40634464, -96.15974255, 4627.0], [17.40672476, -96.14370874, 3466.0], [17.40697535, -96.17553277, 3333.0], [17.40763641, -96.16534498, 3052.0], [17.40832491, -96.11363506, 2923.0], [17.40906948, -96.12659596, 2034.0], [17.40926909, -96.19051886, 3256.0], [17.40942363, -96.13755777, 3529.0], [17.40950409, -96.18380203, 3361.0], [17.41002782, -96.15073655, 3471.0], [17.41131142, -96.12193538, 2342.0], [17.4117099, -96.02174219, 1493.0], [17.41173751, -96.15550494, 2483.0], [17.4137208, -96.18559993, 3355.0], [17.41394369, -96.15305797, 7360.0], [17.4141702, -96.14417902, 3743.0], [17.41593711, -96.12680181, 3013.0], [17.41595957, -96.17740093, 3522.0], [17.41633375, -96.09109001, 3201.0], [17.41730868, -96.07769018, 4027.0], [17.41761981, -96.1705162, 3626.0], [17.41810737, -96.16169369, 4395.0], [17.4183915, -96.1559719, 2995.0], [17.41885797, -96.17577301, 4388.0], [17.41913453, -96.17109371, 3365.0], [17.41940764, -96.15030384, 5192.0], [17.41985064, -96.15340105, 3906.0], [17.42018313, -96.09783943, 2381.0], [17.42034159, -96.1576324, 5265.0], [17.42080251, -96.09468911, 2420.0], [17.42087244, -96.12707441, 2844.0], [17.42111895, -96.14037366, 2430.0], [17.42198869, -96.1428667, 2904.0], [17.42260174, -96.12244413, 2607.0], [17.4227363, -96.1634086, 2059.0], [17.42348497, -96.12945721, 1995.0], [17.42418959, -96.15483784, 2714.0], [17.42458441, -96.06058436, 1573.0], [17.42488366, -96.14770911, 3487.0], [17.42558324, -96.0666256, 1903.0], [17.42602164, -96.1310327, 4348.0], [17.42664287, -96.14238122, 3326.0], [17.42713461, -96.1560263, 4117.0], [17.42726402, -96.1455614, 2105.0], [17.42741469, -96.1472969, 4103.0], [17.42752594, -96.15329038, 3145.0], [17.42801108, -96.16076381, 4572.0], [17.4287605, -96.1685309, 7177.0], [17.4290954, -96.1705539, 3782.0], [17.42922281, -96.17829909, 2933.0], [17.42940216, -96.12817558, 3435.0], [17.42958921, -96.13047463, 5720.0], [17.43027225, -96.14815968, 3765.0], [17.4312737, -96.1280508, 4566.0], [17.4333201, -96.1891159, 3058.0], [17.4334719, -96.1429813, 5182.0], [17.4335788, -96.14603877, 5418.0], [17.43385071, -96.162605, 4110.0], [17.4339784, -96.1533044, 6054.0], [17.43551044, -96.12405907, 3053.0], [17.43567392, -96.13737972, 4977.0], [17.43636392, -96.15284494, 3909.0], [17.43671356, -96.15681309, 3610.0], [17.4370429, -96.1498966, 3990.0], [17.43734405, -96.20122183, 4216.0], [17.43772811, -96.14776037, 3562.0], [17.43777061, -96.14015284, 4594.0], [17.43799033, -96.095576, 4404.0], [17.43807918, -96.16496942, 3567.0], [17.43813339, -96.19056334, 3306.0], [17.4381437, -96.13776094, 3705.0], [17.4381437, -96.1377609, 5835.0], [17.43815837, -96.15130149, 2455.0], [17.43850201, -96.17923159, 5210.0], [17.43947551, -96.15539969, 2915.0], [17.43979796, -96.17804493, 4468.0], [17.43997894, -96.14860649, 2768.0], [17.44087988, -96.13732841, 3267.0], [17.44129197, -96.15479217, 3102.0], [17.4417531, -96.18314711, 3672.0], [17.44191142, -96.20064193, 4792.0], [17.44261393, -96.1329993, 3517.0], [17.44297672, -96.19226189, 3046.0], [17.4434734, -96.2048838, 2990.0], [17.443939, -96.16590233, 2879.0], [17.4451462, -96.14724708, 2267.0], [17.44533981, -96.1830299, 3948.0], [17.44684236, -96.15746573, 2447.0], [17.44727467, -96.15259411, 3383.0], [17.44769787, -96.13574384, 3013.0], [17.44801678, -96.15314365, 3849.0], [17.44893787, -96.17224293, 5116.0], [17.44915022, -96.10508446, 2434.0], [17.45100702, -96.18176398, 3346.0], [17.45181104, -96.20066969, 2780.0], [17.45200592, -96.11767545, 2998.0], [17.45340877, -96.18644686, 3604.0], [17.453976, -96.1765224, 2950.0], [17.45505862, -96.11389842, 3164.0], [17.45512096, -96.15780654, 4141.0], [17.45607128, -96.16616223, 3428.0], [17.45696581, -96.2148719, 3233.0], [17.45761185, -96.14490855, 2847.0], [17.45812475, -96.14013243, 2524.0], [17.45885874, -96.20406379, 2888.0], [17.45976442, -96.18863089, 2986.0], [17.46244376, -96.17846777, 3908.0], [17.46397813, -96.15569514, 4492.0], [17.46502592, -96.18036781, 3332.0], [17.46811103, -96.15265601, 3074.0], [17.47002601, -96.1700426, 3202.0], [17.47024283, -96.17869063, 1574.0], [17.47046901, -96.18979048, 3779.0], [17.47894688, -96.18898267, 3126.0], [17.48263231, -96.20376021, 2758.0], [17.48511903, -96.20875755, 2955.0], [17.48569743, -96.21238491, 2207.0], [17.48687693, -96.03672827, 3769.0], [17.49415125, -96.15964229, 3179.0], [17.4962356, -96.17378807, 3843.0], [17.49782773, -96.19871298, 2583.0], [17.5016829, -96.15773538, 3432.0], [17.50263537, -96.17638558, 3540.0], [17.50409229, -96.17754206, 4367.0], [17.80544391, -87.52791116, 5077.0], [17.81407131, -87.52967993, 4446.0], [17.81442529, -87.50717743, 4619.0], [17.81455211, -87.52592188, 3748.0], [17.81779263, -87.53769999, 2697.0], [17.82638395, -87.55116219, 2731.0], [17.82852063, -87.53465609, 2395.0], [17.82951763, -87.56267198, 2825.0], [17.8301595, -87.53125864, 3745.0], [17.83166169, -87.49571627, 3459.0], [17.83170085, -87.55867732, 2459.0], [17.8345043, -87.54519087, 2278.0], [17.8369394, -87.50910682, 1972.0], [17.83927218, -87.51873256, 2920.0], [17.84224054, -87.50906521, 2752.0], [17.84289409, -87.51714621, 2606.0], [17.84435923, -87.50633325, 1891.0], [17.8465823, -87.49842421, 1559.0], [17.8477523, -87.51967179, 2303.0], [17.84890364, -87.53587594, 2931.0], [17.85095478, -87.49437039, 1908.0], [17.85195372, -87.50490123, 2744.0], [17.85423269, -87.52618674, 4844.0], [17.85515975, -87.48041245, 2382.0], [17.86501245, -87.48646126, 2154.0], [17.88996016, -87.46465819, 2962.0], [18.20828088, -84.46843912, 2736.0], [18.21057265, -84.46377843, 4401.0], [18.21481077, -84.45889597, 3574.0], [18.21525502, -84.45082895, 4694.0], [18.21737025, -84.44213544, 6290.0], [18.30452052, -86.42375007, 2088.0], [18.30740989, -86.41684548, 1838.0], [18.38470398, -86.52808914, 1893.0], [18.3972383, -84.31521983, 4416.0], [18.42901726, -84.29737949, 3494.0], [18.48066251, -83.95473193, 2477.0], [18.48768192, -83.95395623, 4081.0], [18.48847458, -83.93625618, 3761.0], [18.4919511, -83.95837984, 3693.0], [18.49266172, -83.95107324, 3430.0], [18.50216, -83.94959131, 3984.0], [18.51130114, -83.94779599, 2458.0], [18.60698537, -97.4840857, 3121.0], [18.62157729, -84.07747508, 4730.0], [18.6230449, -84.07632516, 4283.0], [18.62564344, -84.07954619, 3290.0], [18.62677009, -84.07833422, 4395.0], [18.62813354, -84.07677562, 3117.0], [18.62854204, -84.0749627, 3848.0], [18.62923869, -84.07935265, 3173.0], [18.6324688, -84.06940385, 3381.0], [18.63353189, -84.06869194, 2799.0], [18.63394133, -84.09395087, 3356.0], [18.6344207, -84.07712369, 3689.0], [18.63627603, -84.06704626, 2302.0], [18.63751888, -84.08207336, 4138.0], [18.63809368, -84.06521549, 4065.0], [18.63835518, -84.07021288, 3812.0], [18.63934769, -84.09525299, 3319.0], [18.64147992, -84.09118409, 2973.0], [18.6415285, -84.06802721, 3705.0], [18.6420115, -84.07965726, 3612.0], [18.64395996, -84.06108194, 3197.0], [18.64879798, -84.05716945, 2662.0], [18.6488331, -84.07538982, 3530.0], [18.65086561, -84.0977368, 4786.0], [18.65339417, -84.07830301, 3625.0], [18.65359305, -84.07155726, 4216.0], [18.65417679, -84.06838688, 2762.0], [18.65568128, -84.06261685, 3284.0], [18.65647549, -84.05256289, 3531.0], [18.67020896, -84.07144446, 3883.0], [18.67062533, -84.07647505, 3869.0], [18.67999809, -85.20071347, 3286.0], [18.69649052, -85.21704965, 3669.0], [18.69885176, -85.20310382, 3048.0], [18.71058521, -85.20257658, 5855.0], [18.84853411, -83.87670888, 4152.0], [18.86109958, -83.90202632, 3939.0], [18.87426789, -86.74727948, 4555.0], [18.90657163, -86.67749698, 4652.0], [18.91204878, -83.87618217, 5862.0], [18.91963213, -86.62083716, 3555.0], [18.92479365, -86.58136127, 3724.0], [18.92666249, -86.69015849, 4734.0], [18.92696426, -86.6807183, 4292.0], [18.92760684, -86.61545684, 5103.0], [18.92770583, -86.60845222, 4059.0], [18.9278066, -86.68316055, 6921.0], [18.92848107, -86.58555996, 4368.0], [18.93229297, -86.56907129, 4050.0], [18.93248556, -86.62001118, 2621.0], [18.93452824, -86.57785093, 4149.0], [18.93609455, -86.60589334, 2505.0], [18.93729421, -86.53318125, 4023.0], [18.9379322, -86.61952187, 2462.0], [18.94154801, -86.57360385, 3447.0], [18.94279091, -86.69811834, 3527.0], [18.94450738, -86.62716519, 4972.0], [18.94507367, -86.65730599, 3916.0], [18.94569829, -86.63946903, 4399.0], [18.94591776, -86.69863412, 3108.0], [18.94703465, -86.60724368, 3601.0], [18.94802278, -86.68366402, 4556.0], [18.94853812, -86.65069351, 5491.0], [18.95402704, -86.68508666, 2907.0], [18.9546126, -86.57993587, 5151.0], [18.95591195, -86.70069742, 4554.0], [18.9571752, -86.54587671, 5008.0], [18.95917741, -86.67624392, 3800.0], [18.95938298, -86.66331058, 4741.0], [18.95989529, -86.5798862, 4675.0], [18.96042624, -86.64721053, 3316.0], [18.96122478, -86.66381236, 2174.0], [18.96309457, -86.62248558, 5059.0], [18.96383141, -86.55717889, 5673.0], [18.96452049, -86.54624558, 6796.0], [18.96480945, -86.59778352, 5013.0], [18.96538628, -86.61036843, 5067.0], [18.96590759, -86.60131031, 4138.0], [18.96743418, -86.57035408, 4337.0], [18.96756217, -86.67767945, 4865.0], [18.96878797, -86.56192579, 3478.0], [18.96916514, -86.68430121, 4790.0], [18.97013893, -86.58011925, 5017.0], [18.97069704, -86.66380661, 4559.0], [18.97102153, -86.64702807, 2716.0], [18.97608978, -86.67576208, 5326.0], [18.97709783, -86.6822291, 3186.0], [18.97710366, -86.57227539, 4251.0], [18.97741583, -86.63318907, 3644.0], [18.97788978, -86.60519379, 4287.0], [18.9780333, -86.66170694, 4473.0], [18.97807295, -86.59822357, 4480.0], [18.97906851, -86.58519114, 4116.0], [18.98207693, -86.65480004, 3191.0], [18.9828707, -86.65929239, 2927.0], [18.98458655, -86.674348, 3445.0], [18.98606669, -86.66337691, 4328.0], [18.98618848, -86.63398806, 3283.0], [18.98636687, -86.70278629, 5235.0], [18.98654786, -86.58442243, 2399.0], [18.98876931, -86.62131444, 2483.0], [18.9891983, -86.59214893, 3515.0], [18.98926065, -86.60080599, 5360.0], [18.98940672, -86.57449877, 4052.0], [18.98948153, -86.64354848, 2545.0], [18.98948357, -86.53119329, 3561.0], [18.99070385, -86.53822829, 5456.0], [18.99100069, -86.6055713, 3583.0], [18.99110929, -86.63152348, 1898.0], [18.99303204, -86.65404565, 3992.0], [18.99333913, -86.68301431, 3903.0], [18.99437827, -86.68975836, 4083.0], [18.99474355, -86.599871, 3176.0], [18.99499681, -86.64009221, 4985.0], [18.99531761, -86.56134572, 5262.0], [18.99676118, -86.70387685, 4482.0], [18.99742879, -86.57410398, 2867.0], [18.99810746, -86.61128933, 3116.0], [18.99843048, -86.7102412, 4257.0], [18.99886122, -86.71716557, 3307.0], [18.99892103, -86.56408462, 4789.0], [18.99895258, -86.68913341, 2698.0], [18.99947427, -86.64451613, 2797.0], [18.99953373, -86.62685327, 4922.0], [19.00072951, -86.60013163, 3906.0], [19.0007833, -86.66029191, 2985.0], [19.00146292, -86.61527117, 2078.0], [19.00273123, -86.64885776, 4706.0], [19.00277116, -86.5736494, 2752.0], [19.00448568, -86.6098526, 2171.0], [19.00464891, -86.70261377, 3624.0], [19.00466286, -86.58022514, 4066.0], [19.00501295, -86.56601194, 4219.0], [19.00616862, -86.63081209, 3265.0], [19.00691883, -86.64751426, 2330.0], [19.00720658, -86.603508, 3072.0], [19.0102979, -86.60519601, 2829.0], [19.01066874, -86.57433762, 6146.0], [19.01110949, -86.61757811, 4123.0], [19.0117513, -86.58049224, 3300.0], [19.01229957, -86.62420819, 5053.0], [19.01345569, -86.65540611, 4307.0], [19.0142027, -86.56366672, 3842.0], [19.01461784, -86.64892501, 2796.0], [19.01771213, -86.59188604, 4589.0], [19.01857567, -86.5690542, 6100.0], [19.0199912, -86.65377925, 3953.0], [19.02031779, -86.63512016, 4515.0], [19.02072368, -86.57811839, 3127.0], [19.02144574, -86.64304928, 5563.0], [19.0215163, -86.62080874, 5736.0], [19.02230694, -86.58387914, 4215.0], [19.02300175, -86.63071617, 3891.0], [19.02494978, -86.61442174, 3904.0], [19.0264844, -86.62408093, 3650.0], [19.02659784, -86.5788785, 4439.0], [19.02698283, -86.64223051, 2986.0], [19.02724536, -86.64827815, 2833.0], [19.02952352, -86.5932951, 5632.0], [19.02987285, -86.56866509, 7063.0], [19.03051526, -86.64216969, 3490.0], [19.03195759, -86.64687385, 4706.0], [19.03235769, -86.60391223, 4849.0], [19.03371175, -86.62350097, 6024.0], [19.03510931, -86.64500103, 3258.0], [19.0356227, -86.647101, 3919.0], [19.0360258, -86.59459282, 5334.0], [19.03792086, -86.61896276, 4378.0], [19.03974873, -86.63727734, 7192.0], [19.04057272, -86.54819061, 3456.0], [19.04060449, -86.60157177, 8183.0], [19.04406461, -86.62915435, 4743.0], [19.04849367, -86.63998529, 6420.0], [19.05083443, -83.84912775, 6993.0], [19.05995399, -86.63168723, 5505.0], [19.06080329, -86.52834213, 7118.0], [19.0624, -86.6252, 3724.0], [19.06282629, -83.84704712, 4944.0], [19.06916831, -86.64619761, 3499.0], [19.06967485, -86.66392667, 5855.0], [19.06972572, -86.6517296, 5707.0], [19.07379314, -86.66412954, 4254.0], [19.07429277, -83.8450115, 6550.0], [19.07788208, -86.65613245, 5199.0], [19.08302241, -86.65976266, 6223.0], [19.09684173, -86.29356975, 2646.0], [19.0969652, -83.76890129, 4260.0], [19.10033037, -86.30015848, 2731.0], [19.10453033, -83.7651668, 7124.0], [19.11353273, -83.83851366, 2620.0], [19.11431101, -83.85005064, 3336.0], [19.11439856, -83.94616533, 3899.0], [19.116393, -83.88233132, 2233.0], [19.11688947, -83.84653768, 2274.0], [19.11794743, -83.87080909, 4353.0], [19.12121169, -83.87883202, 5357.0], [19.12449616, -83.84000824, 3356.0], [19.12549577, -83.87298369, 4127.0], [19.12921494, -83.87042248, 4114.0], [19.13014007, -83.83151011, 4703.0], [19.13073248, -83.748628, 7221.0], [19.13199679, -83.89250028, 2406.0], [19.13214169, -83.88797184, 5419.0], [19.1323432, -83.87609827, 2473.0], [19.13249571, -83.86386967, 2365.0], [19.13277769, -83.85496293, 3526.0], [19.13280108, -83.84901046, 2651.0], [19.13310715, -83.83284767, 1436.0], [19.13325162, -83.83553539, 4512.0], [19.13348249, -83.8608376, 2886.0], [19.13415677, -83.83641066, 5430.0], [19.13426602, -83.74588408, 6292.0], [19.13565564, -83.84693602, 3605.0], [19.13672363, -83.88048193, 3279.0], [19.13688286, -83.87272839, 3557.0], [19.13715475, -83.86081667, 3262.0], [19.13728746, -83.86849259, 2242.0], [19.13755175, -83.85386069, 3005.0], [19.1379694, -83.75039139, 3696.0], [19.13868767, -83.84424152, 4483.0], [19.13896197, -83.76900448, 11256.0], [19.14019657, -83.86613238, 2187.0], [19.14039528, -83.89168978, 3941.0], [19.14068259, -83.90845315, 321.0], [19.14233914, -83.90238859, 3513.0], [19.14236163, -83.83082413, 2916.0], [19.14348132, -83.84734695, 3773.0], [19.14356294, -85.15002955, 2181.0], [19.14397533, -83.82205945, 4229.0], [19.14444314, -83.91067144, 3567.0], [19.14540931, -83.82550665, 2566.0], [19.14586376, -83.90666373, 1499.0], [19.14599291, -83.79132191, 8081.0], [19.14665071, -83.9135224, 1551.0], [19.14681465, -83.86485784, 4205.0], [19.1482294, -83.85646805, 3258.0], [19.14877202, -83.84534032, 3013.0], [19.14925643, -83.81968921, 4943.0], [19.14994043, -83.83293155, 4503.0], [19.14997346, -83.88193369, 3048.0], [19.1505965, -83.91444661, 4038.0], [19.15092362, -83.86694846, 3799.0], [19.15244867, -83.86363128, 2634.0], [19.15314539, -83.85221981, 3736.0], [19.15388849, -83.84886125, 3267.0], [19.1539094, -83.86815802, 3500.0], [19.15443344, -83.84354034, 2789.0], [19.15481676, -83.89508004, 2472.0], [19.15548353, -83.91130975, 3387.0], [19.15599145, -83.84026601, 3443.0], [19.15627883, -83.83243592, 3361.0], [19.15636863, -83.85902179, 2767.0], [19.15707434, -83.82939112, 4612.0], [19.1575251, -83.83730705, 3010.0], [19.15803462, -83.83333706, 4177.0], [19.15868049, -83.85227077, 4370.0], [19.15878444, -83.86425967, 3273.0], [19.16009848, -83.80846901, 7867.0], [19.16015429, -83.86072561, 2416.0], [19.16061577, -83.82924135, 4010.0], [19.16078974, -83.82792853, 4662.0], [19.16096772, -83.83350786, 2234.0], [19.16121729, -83.92487005, 3091.0], [19.16136001, -83.92750661, 1974.0], [19.16141011, -83.85296583, 2601.0], [19.16164435, -83.83916908, 3476.0], [19.16184375, -83.83561852, 2753.0], [19.16199359, -83.8521397, 4846.0], [19.16209865, -83.82383341, 3485.0], [19.16302916, -83.84873491, 3497.0], [19.16350925, -83.86258983, 3845.0], [19.16409548, -83.82724256, 4320.0], [19.16422771, -83.87960754, 2685.0], [19.16519685, -83.82900224, 4138.0], [19.16522412, -83.9303754, 4435.0], [19.16525145, -83.82548679, 5906.0], [19.16583922, -83.84391082, 2523.0], [19.16584522, -83.8360398, 2606.0], [19.16599425, -83.83700954, 2774.0], [19.16608953, -83.82084148, 3168.0], [19.16704, -83.84819, 3905.0], [19.16760472, -83.87750706, 3379.0], [19.16810195, -83.82641571, 5419.0], [19.16846748, -83.84533154, 3731.0], [19.16975917, -83.82763908, 3508.0], [19.17131773, -83.85413092, 1711.0], [19.17219477, -83.87804587, 2976.0], [19.17443458, -83.8197289, 5817.0], [19.1751375, -83.82710426, 3232.0], [19.17526912, -83.82409012, 4295.0], [19.17609078, -83.83035875, 2890.0], [19.17704272, -83.82127079, 3085.0], [19.18015858, -83.87876779, 3430.0], [19.18028774, -83.91330459, 2221.0], [19.18129909, -83.84689606, 2795.0], [19.18327254, -83.8089974, 3914.0], [19.18388758, -83.80743044, 8284.0], [19.18425089, -83.8789194, 3250.0], [19.18693482, -83.82237009, 2897.0], [19.18819779, -83.80727001, 7061.0], [19.18937547, -83.83699069, 3732.0], [19.18969818, -83.8714021, 2908.0], [19.19115002, -83.81905439, 3324.0], [19.19230725, -83.86606928, 1999.0], [19.19265192, -83.87081819, 2168.0], [19.19432725, -83.83863456, 2817.0], [19.19508546, -83.87704995, 3848.0], [19.1955939, -83.82337662, 2771.0], [19.19598758, -83.85985912, 2039.0], [19.19674883, -83.87363983, 2660.0], [19.19706466, -83.85700357, 2808.0], [19.1973, -83.8317, 3543.0], [19.19765515, -83.84809591, 2744.0], [19.26820601, -86.74404709, 4242.0], [19.27594735, -86.69757592, 5503.0], [19.27742061, -86.66256066, 4175.0], [19.28189599, -86.67722434, 3601.0], [19.28333461, -86.65950781, 3757.0], [19.28803048, -86.66226145, 6136.0], [19.28819622, -86.6557239, 7798.0], [19.29443372, -86.60942693, 3852.0], [20.13965058, -97.9911788, 3333.0], [23.26578, -97.00734, 6695.0], [23.27831, -97.02243, 3202.0], [23.28940226, -97.0343426, 2000.0], [23.364386, -97.102015, 4912.0], [23.37834256, -97.1143873, 2444.0], [23.378385, -97.111949, 3532.0], [23.39470246, -97.1297316, 3273.0], [23.396859, -97.13477, 3614.0], [23.40521625, -97.1341699, 4873.0], [23.40545399, -97.133655, 4795.0], [23.40712504, -97.1374732, 3893.0], [23.41392, -97.14064, 3329.0], [23.43097, -97.15274, 6322.0], [23.4613701, -97.170892, 3376.0], [23.46719105, -97.1734235, 3890.0], [23.487, -97.1833, 2689.0], [23.50882404, -97.1943718, 5574.0], [23.51352756, -97.1983486, 3902.0], [23.52002969, -100.4026319, 5527.0], [23.53082904, -97.2128218, 4794.0], [23.53601041, -97.219047, 6274.0], [23.56043, -97.232, 6474.0], [23.5656291, -97.2392933, 8222.0], [23.56605564, -100.427179, 4959.0], [23.5813145, -97.258472, 5604.0], [23.597572, -97.26299, 5447.0], [23.60123927, -97.2640557, 4002.0], [23.60324546, -97.2576147, 3947.0], [23.6114295, -97.14326, 2155.0], [23.61295154, -97.1508556, 2519.0], [23.6157771, -97.2778342, 2639.0], [23.61783985, -97.1780276, 2086.0], [23.62039132, -97.2832293, 3494.0], [23.62075604, -97.2854577, 4032.0], [23.62169745, -97.2977634, 2425.0], [23.62463949, -97.1174924, 2902.0], [23.6257833, -97.10845, 1664.0], [23.62630447, -97.0965245, 4542.0], [23.62890544, -97.2964486, 3949.0], [23.62981039, -97.0946462, 2586.0], [23.63210185, -97.2724304, 2504.0], [23.63431029, -97.2839739, 4278.0], [23.63520786, -97.1957129, 5006.0], [23.63875509, -97.3825637, 3519.0], [23.63905846, -97.1869105, 3139.0], [23.63963, -97.28821, 4865.0], [23.63988052, -97.1962726, 4434.0], [23.64168234, -97.0891182, 4335.0], [23.64192293, -97.2682629, 4958.0], [23.64233361, -97.2784073, 2606.0], [23.644389, -97.185858, 3096.0], [23.64442465, -97.2970876, 2913.0], [23.64524111, -97.2748353, 3276.0], [23.645269, -97.379382, 6563.0], [23.6468857, -97.1777517, 4396.0], [23.64790563, -97.2975918, 3417.0], [23.64811001, -97.3297385, 9152.0], [23.64824441, -97.1830985, 4202.0], [23.64833958, -97.2099354, 4821.0], [23.64840964, -97.2854659, 5870.0], [23.64884848, -97.0840331, 3970.0], [23.64886165, -97.1894566, 3761.0], [23.64910821, -97.2664874, 2213.0], [23.64910947, -97.1430996, 3650.0], [23.64965988, -97.1889669, 2238.0], [23.65050048, -97.1949745, 4346.0], [23.6508363, -97.3345118, 9028.0], [23.65117097, -97.2082476, 4182.0], [23.6515139, -97.1867673, 2622.0], [23.65169347, -97.2988978, 4404.0], [23.65193742, -97.1856501, 4659.0], [23.651953, -97.081887, 2099.0], [23.65218813, -97.2015859, 3188.0], [23.65226038, -97.2795038, 3651.0], [23.65314412, -97.1114952, 2478.0], [23.6531918, -97.2029414, 2724.0], [23.65383831, -97.2896216, 5653.0], [23.65409324, -97.3058632, 4293.0], [23.65478383, -97.3830581, 5016.0], [23.65488131, -97.2120697, 2602.0], [23.655188, -97.352683, 5952.0], [23.65599359, -97.1822707, 3198.0], [23.656087, -97.339977, 5421.0], [23.65671255, -97.3625266, 6711.0], [23.65675859, -97.3882741, 3877.0], [23.65680196, -97.2027079, 3388.0], [23.65693108, -97.1721868, 2103.0], [23.65722121, -97.4102164, 4794.0], [23.65810198, -97.2249581, 2039.0], [23.65850334, -97.1898017, 3615.0], [23.65853803, -97.3563868, 7575.0], [23.65920248, -97.2737044, 3227.0], [23.659452, -97.166288, 3786.0], [23.65963693, -97.4566025, 3162.0], [23.65979098, -97.3962173, 5776.0], [23.66, -97.31, 3425.0], [23.6600792, -97.2073779, 4332.0], [23.660142, -97.286567, 4167.0], [23.66035028, -97.4512531, 4697.0], [23.66035413, -97.3827921, 2942.0], [23.66051898, -97.1848697, 3414.0], [23.6606585, -97.3077312, 4066.0], [23.66097704, -97.2681448, 3547.0], [23.66105051, -97.252569, 3913.0], [23.66112847, -97.3987512, 4438.0], [23.661184, -97.303969, 4684.0], [23.66139934, -97.4005124, 4102.0], [23.66214516, -97.2219756, 2694.0], [23.66251, -97.45838, 4758.0], [23.66255661, -97.1426501, 1778.0], [23.6625578, -97.3680113, 4681.0], [23.66315343, -97.2273773, 3504.0], [23.6638028, -97.2576945, 3113.0], [23.66384911, -97.3281765, 4117.0], [23.66387768, -97.2039096, 2602.0], [23.66425619, -97.1877357, 5438.0], [23.66454514, -97.1557486, 3848.0], [23.66474115, -97.2091306, 2728.0], [23.66576732, -97.2169512, 4579.0], [23.66605898, -97.2693528, 3254.0], [23.66612135, -97.4602055, 4202.0], [23.66613655, -97.3163625, 5416.0], [23.66645, -97.10365, 3443.0], [23.66655122, -97.2139839, 1869.0], [23.66707871, -97.2803963, 4449.0], [23.6674241, -97.2847126, 4512.0], [23.66742777, -97.2543879, 4359.0], [23.66773697, -97.4294583, 2398.0], [23.66774196, -97.3236944, 6984.0], [23.66796706, -97.3178209, 5016.0], [23.668115, -97.44107, 5392.0], [23.66824837, -97.3193029, 5983.0], [23.66829439, -97.3502308, 3882.0], [23.66840497, -97.3152853, 4876.0], [23.66908646, -97.2629382, 4295.0], [23.6695434, -97.3136359, 3017.0], [23.66959259, -97.3229473, 4816.0], [23.66975785, -97.2360518, 3999.0], [23.66991659, -97.4553667, 4025.0], [23.67003413, -97.3305721, 4313.0], [23.6701775, -97.3307668, 3833.0], [23.67040245, -97.2116192, 3820.0], [23.67060636, -97.3081329, 6209.0], [23.671077, -97.1907251, 1792.0], [23.67120223, -97.3158629, 4083.0], [23.671307, -97.3443924, 5107.0], [23.67150965, -97.2585627, 3708.0], [23.67161103, -97.3682518, 5468.0], [23.67180479, -97.07631476, 2556.0], [23.67185825, -97.3186015, 3544.0], [23.67188606, -97.3148209, 5354.0], [23.67208691, -97.3170454, 6450.0], [23.6722251, -97.3167416, 3489.0], [23.6722678, -97.3369978, 3950.0], [23.67280479, -97.2376883, 2489.0], [23.67288204, -97.3185129, 4028.0], [23.67292225, -97.2515471, 2510.0], [23.67294927, -97.2987504, 5738.0], [23.67301497, -97.3000361, 2810.0], [23.67309017, -97.346556, 2976.0], [23.67316, -97.426927, 3490.0], [23.67341082, -97.3031637, 4778.0], [23.67369706, -97.2703818, 3051.0], [23.67371256, -97.3393419, 4993.0], [23.67398104, -97.190557, 3000.0], [23.67402454, -97.4526982, 2692.0], [23.67406919, -97.43577, 4897.0], [23.67418907, -97.4258214, 3489.0], [23.67422, -97.33301, 5419.0], [23.67423037, -97.4617719, 2955.0], [23.6744499, -97.3108587, 3023.0], [23.67474329, -97.3575596, 5276.0], [23.67478882, -97.3368233, 4617.0], [23.67484422, -97.2441185, 3029.0], [23.67486004, -97.3719774, 3947.0], [23.67495986, -97.3182237, 2844.0], [23.67497428, -97.4709874, 4163.0], [23.67504938, -97.3191766, 5613.0], [23.6750922, -97.2695839, 3640.0], [23.67513327, -97.1926547, 2736.0], [23.67514335, -97.3278932, 4082.0], [23.67525854, -97.3230478, 4317.0], [23.67533143, -97.3640501, 3559.0], [23.6754531, -97.3251352, 4506.0], [23.67558401, -97.4431577, 2764.0], [23.67634653, -97.266915, 4183.0], [23.67642, -97.31574, 5658.0], [23.67649657, -97.2908984, 4833.0], [23.67654657, -97.2982249, 4776.0], [23.67661374, -97.2487907, 4756.0], [23.67688495, -97.4658628, 4059.0], [23.67690046, -97.312375, 4871.0], [23.67699784, -97.3135009, 4818.0], [23.6770463, -97.3215057, 6069.0], [23.67709807, -97.3164604, 4648.0], [23.67732, -97.4765, 3569.0], [23.67759309, -97.4789705, 3040.0], [23.67772955, -97.3552934, 8359.0], [23.67808539, -97.162557, 2568.0], [23.6781351, -97.3441404, 2962.0], [23.67825, -97.35205, 3668.0], [23.67828117, -97.3040345, 4571.0], [23.67863252, -97.2672512, 3275.0], [23.67928984, -97.2651862, 2763.0], [23.67932524, -97.2459255, 3900.0], [23.67946119, -97.2583993, 2138.0], [23.67950102, -97.316387, 5444.0], [23.67950392, -97.3137494, 4406.0], [23.6798646, -97.331049, 6167.0], [23.67992862, -97.2575187, 2931.0], [23.6801565, -97.2935916, 4119.0], [23.68058235, -97.4931338, 4513.0], [23.68066186, -97.1746993, 3271.0], [23.68072963, -97.322608, 4810.0], [23.68082575, -97.3261364, 7777.0], [23.68083763, -97.4980862, 3581.0], [23.68091913, -97.2905019, 4720.0], [23.68097062, -97.4404478, 3595.0], [23.68097727, -97.2391199, 4350.0], [23.68102836, -97.2527104, 4542.0], [23.68103235, -97.3616767, 3734.0], [23.68105027, -97.4295108, 3981.0], [23.681065, -97.484009, 2748.0], [23.6812287, -97.1694175, 1984.0], [23.68134695, -97.313913, 3620.0], [23.68146523, -97.3057153, 8372.0], [23.68150037, -97.3706843, 3498.0], [23.68193963, -97.4217751, 3967.0], [23.6822, -97.2992, 4675.0], [23.68229104, -97.3312218, 4297.0], [23.68237356, -97.4654203, 4460.0], [23.68241629, -97.2972533, 2746.0], [23.68242599, -97.3020366, 7713.0], [23.68284798, -97.3125759, 3927.0], [23.68285994, -97.3456808, 3378.0], [23.68296527, -97.4867997, 3291.0], [23.68311039, -97.276717, 2893.0], [23.683272, -97.3161747, 4103.0], [23.68348293, -97.3189027, 6266.0], [23.68382399, -97.2799977, 2342.0], [23.6838707, -97.3133267, 7730.0], [23.68395324, -97.2077446, 3969.0], [23.6840018, -97.3121427, 2255.0], [23.68400701, -97.179511, 3559.0], [23.68404044, -97.2876152, 6811.0], [23.6840609, -97.3400009, 4881.0], [23.68418633, -97.2438822, 3505.0], [23.68419206, -97.2213767, 2549.0], [23.6842342, -97.4365957, 3560.0], [23.68425766, -97.2137423, 2102.0], [23.68426189, -97.313529, 2285.0], [23.68439822, -97.2976013, 2491.0], [23.68448697, -97.2261983, 2224.0], [23.6846553, -97.3167003, 3702.0], [23.68477324, -97.2964785, 4856.0], [23.68497906, -97.4204142, 5780.0], [23.6850533, -97.4433102, 3898.0], [23.68563645, -97.3146875, 5926.0], [23.68578869, -97.3331739, 3585.0], [23.68587266, -97.3219212, 5428.0], [23.68589817, -97.4692187, 5911.0], [23.68596611, -97.1991941, 5549.0], [23.68598727, -97.3640644, 3548.0], [23.68609328, -97.2687603, 5144.0], [23.68626601, -97.3231961, 7626.0], [23.68646606, -97.1963892, 3179.0], [23.68657897, -97.2138518, 3366.0], [23.68665854, -97.2640312, 3733.0], [23.68666078, -97.2303595, 2914.0], [23.686758, -97.3123757, 5179.0], [23.68678136, -97.308201, 5462.0], [23.68691333, -97.2985432, 7740.0], [23.68703453, -97.2773768, 5978.0], [23.68709125, -97.3333108, 3954.0], [23.68709202, -97.4957367, 4812.0], [23.68712296, -97.1899677, 3766.0], [23.68718907, -97.2831544, 2435.0], [23.68738792, -97.3306912, 4004.0], [23.68814416, -97.3468032, 2540.0], [23.68881851, -97.4368902, 3887.0], [23.68882905, -97.3164135, 4522.0], [23.68884267, -97.4464425, 3712.0], [23.68885677, -97.3330958, 5154.0], [23.68925357, -97.3113666, 4172.0], [23.68935306, -97.3008873, 4609.0], [23.68937421, -97.35189659, 8546.0], [23.68959768, -97.317464, 3772.0], [23.68994902, -97.4325218, 3713.0], [23.6901707, -97.2516429, 3206.0], [23.69058461, -97.2298874, 4929.0], [23.69101923, -97.3776288, 2822.0], [23.69120089, -97.4510141, 3672.0], [23.69120424, -97.3396309, 5749.0], [23.691231, -97.4283, 4619.0], [23.69130784, -97.3549798, 5963.0], [23.69131292, -97.4423171, 4664.0], [23.69163184, -97.3362984, 3873.0], [23.69164563, -97.2687149, 5688.0], [23.69172251, -97.3265249, 8681.0], [23.69197382, -97.3217591, 4186.0], [23.69272319, -97.2543338, 4891.0], [23.69335269, -97.4562783, 3699.0], [23.6933679, -97.2908127, 4793.0], [23.69344054, -97.1831029, 6147.0], [23.69376501, -97.4606128, 5333.0], [23.69404931, -97.3517173, 3998.0], [23.69457975, -97.2950676, 4481.0], [23.69481153, -97.2305161, 3783.0], [23.69494032, -97.2191066, 2715.0], [23.6949902, -97.4653081, 2893.0], [23.69503901, -97.2871517, 3672.0], [23.69517045, -97.3592347, 2725.0], [23.69528396, -97.2064301, 3155.0], [23.69563404, -97.5135479, 7072.0], [23.69565992, -97.3807266, 2762.0], [23.69568754, -97.2460889, 4039.0], [23.69579791, -97.3485525, 5033.0], [23.69605126, -97.2103593, 2611.0], [23.6961328, -97.3389171, 4574.0], [23.69621413, -97.1570182, 5948.0], [23.69635884, -97.3171086, 2285.0], [23.69640957, -97.310404, 6890.0], [23.69658883, -97.2550737, 5721.0], [23.69667215, -97.2614649, 3787.0], [23.69686136, -97.4381141, 3886.0], [23.69687272, -97.3109085, 5489.0], [23.69693, -97.454, 3063.0], [23.69719739, -97.4454269, 4597.0], [23.69734633, -97.3493391, 4347.0], [23.69739778, -97.3567427, 3000.0], [23.69757172, -97.2621607, 5766.0], [23.69789798, -97.2874672, 4737.0], [23.69894001, -97.3318615, 1973.0], [23.69916976, -97.5019835, 4289.0], [23.69919913, -97.499531, 4115.0], [23.69960759, -97.2834224, 4317.0], [23.69963628, -97.2934038, 4946.0], [23.69969417, -97.2133448, 3117.0], [23.69974404, -97.3428023, 5297.0], [23.6999, -97.3384, 3591.0], [23.70003625, -97.3584028, 3896.0], [23.70010169, -97.2678106, 3677.0], [23.7003697, -97.3376986, 6551.0], [23.7005801, -97.2018014, 5309.0], [23.70070562, -97.4633153, 3251.0], [23.70094783, -97.4521988, 5501.0], [23.70119006, -97.3160868, 5778.0], [23.70127851, -97.1636539, 1801.0], [23.70178712, -97.361732, 5383.0], [23.70213935, -97.2504289, 3007.0], [23.70269834, -97.3636321, 4697.0], [23.70335911, -97.4617665, 3589.0], [23.7034062, -97.287554, 4672.0], [23.70385599, -97.307324, 4030.0], [23.70399438, -97.5071159, 4562.0], [23.704002, -97.455417, 4120.0], [23.70416772, -97.3313271, 3416.0], [23.70447074, -97.3586585, 5104.0], [23.70497082, -97.3092679, 3403.0], [23.70501586, -97.501816, 4625.0], [23.70511929, -97.5171453, 3865.0], [23.70524165, -97.2073201, 1914.0], [23.70531376, -97.165314, 3645.0], [23.70541901, -97.3421946, 4346.0], [23.70606402, -97.3025268, 3758.0], [23.7063345, -97.2233495, 3868.0], [23.7065985, -97.2069581, 3063.0], [23.70716846, -97.323377, 5989.0], [23.70727222, -97.2584932, 3311.0], [23.7075, -97.32026, 3910.0], [23.70750765, -97.1994572, 2477.0], [23.7079001, -97.33995, 2709.0], [23.7081646, -97.3278843, 4918.0], [23.7091976, -97.1847966, 3240.0], [23.7092738, -97.3272053, 3030.0], [23.70927801, -97.3605016, 4120.0], [23.70965908, -97.2637681, 2185.0], [23.70978148, -97.3472081, 8563.0], [23.71101329, -97.0998352, 2076.0], [23.71105054, -97.2925673, 4240.0], [23.71133929, -97.301257, 7906.0], [23.71173819, -97.2388252, 4424.0], [23.71182822, -97.2273748, 2650.0], [23.71201255, -97.372149, 3390.0], [23.71330432, -97.342712, 2963.0], [23.71337358, -97.3488715, 3104.0], [23.71345046, -97.2483345, 2418.0], [23.71402604, -97.3666677, 6453.0], [23.7143202, -97.309059, 7359.0], [23.71466972, -97.2728708, 8654.0], [23.71471744, -97.1876664, 4009.0], [23.71481079, -97.3256797, 5504.0], [23.7148198, -97.2522777, 3866.0], [23.71483974, -97.2973706, 3917.0], [23.71484155, -97.4898578, 6369.0], [23.71490944, -97.1553368, 3656.0], [23.71493838, -97.1071762, 2867.0], [23.71518242, -97.3515883, 6162.0], [23.715245, -97.340302, 5264.0], [23.71610258, -97.283738, 4631.0], [23.71644207, -97.3427285, 4421.0], [23.71654586, -97.3835809, 3146.0], [23.71723476, -97.3537307, 4096.0], [23.71732303, -97.1921661, 3082.0], [23.71791301, -97.2282765, 3249.0], [23.71808101, -97.2797361, 4093.0], [23.71861501, -97.2662754, 3773.0], [23.71884233, -97.2575527, 3179.0], [23.71887068, -97.1966325, 7525.0], [23.71895425, -97.2769109, 5076.0], [23.71991734, -97.3692571, 3702.0], [23.72000042, -97.3326526, 5008.0], [23.72012674, -97.2216657, 3564.0], [23.72035251, -97.3626877, 3818.0], [23.72036338, -97.3384442, 5337.0], [23.72039062, -97.3596273, 2652.0], [23.72089988, -97.1834194, 3161.0], [23.72116082, -97.3488753, 8041.0], [23.72125886, -97.3248201, 4868.0], [23.72144459, -97.3430579, 3727.0], [23.72249551, -97.2925763, 3994.0], [23.72258204, -97.1404399, 5029.0], [23.72314811, -97.3848883, 2674.0], [23.72346133, -97.3367874, 5677.0], [23.72368567, -97.1666111, 1638.0], [23.72376168, -97.3527088, 4415.0], [23.7237832, -97.3646425, 2947.0], [23.72438843, -97.2224876, 2293.0], [23.72455651, -97.3688831, 3104.0], [23.72583897, -97.348941, 4062.0], [23.725935, -97.258377, 2558.0], [23.72652394, -97.3543882, 3869.0], [23.72656992, -97.3949643, 3241.0], [23.72669477, -97.3638074, 4437.0], [23.72758945, -97.1443169, 4268.0], [23.72761621, -97.3675442, 3506.0], [23.72769537, -97.2973022, 3077.0], [23.72772402, -97.2566213, 5238.0], [23.72802741, -97.2413102, 5959.0], [23.72811529, -97.1856322, 2865.0], [23.72895637, -97.3842576, 3599.0], [23.7291306, -97.3602253, 3430.0], [23.72920212, -97.1780658, 3030.0], [23.72975876, -97.3339326, 5656.0], [23.72991085, -97.2888803, 2764.0], [23.73013377, -97.346488, 4478.0], [23.73047146, -97.2256267, 2595.0], [23.73065361, -97.1865678, 1877.0], [23.73097586, -97.1995273, 4165.0], [23.73121407, -97.3424027, 3562.0], [23.73213981, -97.3734969, 2858.0], [23.73219936, -97.3745551, 3762.0], [23.73239511, -97.2348973, 2876.0], [23.73241205, -97.1757826, 6174.0], [23.73305658, -97.2478386, 2854.0], [23.733068, -97.209882, 3167.0], [23.73307797, -97.3673968, 2802.0], [23.73308817, -97.3152392, 4141.0], [23.73315155, -97.3470629, 2106.0], [23.73369388, -97.1990775, 3424.0], [23.73422893, -97.3734699, 2885.0], [23.73435856, -97.2707011, 2633.0], [23.73441031, -97.2176364, 3148.0], [23.73441449, -97.3538087, 3393.0], [23.73468858, -97.2789848, 2534.0], [23.73516402, -97.2623591, 4475.0], [23.73520467, -97.3489833, 3280.0], [23.73598701, -97.2963506, 3215.0], [23.73636475, -97.3055432, 2781.0], [23.73671834, -97.2863196, 3464.0], [23.73706177, -97.3104218, 4716.0], [23.73744126, -97.268029, 3742.0], [23.7374497, -97.3184642, 6846.0], [23.7378748, -97.3239795, 3964.0], [23.73833954, -97.3557785, 3754.0], [23.73861562, -97.1384738, 3458.0], [23.73931442, -97.3781547, 3846.0], [23.73931537, -97.3956221, 2781.0], [23.73941588, -97.3875699, 5941.0], [23.73961781, -97.2799181, 4210.0], [23.73999788, -97.2555508, 2890.0], [23.74030354, -97.2390502, 1949.0], [23.7412, -97.27083, 3365.0], [23.74154592, -97.1846313, 4363.0], [23.74163892, -97.2996493, 5745.0], [23.74166947, -97.4054011, 3002.0], [23.74187254, -97.3553721, 3363.0], [23.741893, -97.1424813, 3000.0], [23.74191994, -97.1908725, 4341.0], [23.74195053, -97.3963035, 3099.0], [23.74205123, -97.1984629, 4367.0], [23.74227067, -97.3118412, 4561.0], [23.74234703, -97.256829, 3566.0], [23.74235216, -97.2179249, 4845.0], [23.74235716, -97.1880217, 2834.0], [23.74259038, -97.3850143, 2866.0], [23.74266557, -97.2781918, 4664.0], [23.7433943, -97.2884461, 3134.0], [23.74343337, -97.1544564, 3805.0], [23.74491892, -97.2930205, 4320.0], [23.74501516, -97.4196449, 1761.0], [23.74509437, -97.3612585, 4087.0], [23.74527018, -97.3061427, 4177.0], [23.74531596, -97.1781351, 3576.0], [23.74545342, -97.4103528, 2651.0], [23.74607538, -97.2603802, 2972.0], [23.74626145, -97.2689612, 3572.0], [23.74632742, -97.4273308, 2202.0], [23.7464142, -97.3885408, 3106.0], [23.74653798, -97.3596324, 1854.0], [23.74654234, -97.3024862, 3157.0], [23.7469831, -97.3491315, 3303.0], [23.74739348, -97.3077475, 3938.0], [23.74749502, -97.3444618, 4130.0], [23.74794175, -97.3860903, 3529.0], [23.74851315, -97.2489572, 2684.0], [23.74898986, -97.4286001, 1893.0], [23.74911608, -97.2563763, 2347.0], [23.74962333, -97.2399462, 6031.0], [23.74968, -97.37087, 3565.0], [23.75038328, -97.2281735, 2777.0], [23.75039275, -97.384079, 3058.0], [23.75090173, -97.3681059, 3683.0], [23.75149652, -97.4106443, 3037.0], [23.75178896, -97.2596732, 2170.0], [23.752367, -97.1570936, 3464.0], [23.7529586, -97.3616226, 2568.0], [23.75307951, -97.2995251, 7090.0], [23.75332402, -97.305822, 4939.0], [23.7535292, -97.1527537, 4433.0], [23.7538185, -97.3753273, 3058.0], [23.75383028, -97.1035154, 1215.0], [23.75388422, -97.1968994, 5179.0], [23.75489579, -97.2969293, 2563.0], [23.75516607, -97.1610013, 3088.0], [23.75539702, -97.2891593, 3186.0], [23.75579808, -97.2859429, 3639.0], [23.75615606, -97.3569462, 3970.0], [23.7562406, -97.108358, 2921.0], [23.75640429, -97.2358815, 3284.0], [23.75655253, -97.1595908, 2162.0], [23.75668371, -97.2902001, 2569.0], [23.75688397, -97.4034942, 3949.0], [23.75744427, -97.4350411, 2966.0], [23.75787561, -97.2654141, 3217.0], [23.75788853, -97.3142595, 4275.0], [23.75848151, -97.4054658, 2573.0], [23.75852285, -97.4268305, 2395.0], [23.75871324, -97.2963629, 2838.0], [23.75957184, -97.2857844, 3265.0], [23.75977224, -97.2951705, 3537.0], [23.7605652, -97.4301427, 3333.0], [23.76082591, -97.2702688, 3361.0], [23.76125183, -97.2743862, 3097.0], [23.7612946, -97.3850256, 2728.0], [23.76178043, -97.287746, 3175.0], [23.76180472, -97.4352883, 4984.0], [23.76229799, -97.4251597, 3184.0], [23.76244053, -97.2731001, 3607.0], [23.76244286, -97.2541168, 2443.0], [23.76299166, -97.4131166, 3166.0], [23.76309485, -97.292759, 4101.0], [23.7631, -97.3051, 1823.0], [23.76338529, -97.4641684, 7212.0], [23.76349222, -97.2795684, 2777.0], [23.76359891, -97.4003166, 2828.0], [23.76366917, -97.2450928, 2988.0], [23.76375327, -97.3889907, 5225.0], [23.76396289, -97.2496285, 2478.0], [23.7641115, -97.2557516, 3398.0], [23.76435922, -97.4360347, 3305.0], [23.76539332, -97.2800641, 3478.0], [23.76559694, -97.1410011, 2920.0], [23.76613026, -97.3005072, 4017.0], [23.7676504, -97.4154594, 2618.0], [23.76779228, -97.4078894, 4108.0], [23.76820438, -97.3158452, 4084.0], [23.76821089, -97.4152381, 4602.0], [23.76835318, -97.2504464, 3467.0], [23.76858854, -97.2925982, 5629.0], [23.76869779, -97.45961, 5305.0], [23.76869905, -97.2133596, 5192.0], [23.76873021, -97.2912159, 7212.0], [23.76888604, -97.2788553, 3975.0], [23.76934523, -97.27464385, 2330.0], [23.76947662, -97.461872, 6190.0], [23.76979385, -97.3046023, 4164.0], [23.77029532, -97.4207424, 2002.0], [23.77057657, -97.4027883, 3276.0], [23.77245, -97.31185, 5469.0], [23.7724852, -97.3157082, 4554.0], [23.77281958, -97.4336415, 4187.0], [23.77373016, -97.425825, 5424.0], [23.77444887, -97.1936692, 5072.0], [23.7746, -97.21767, 5914.0], [23.77465706, -97.4285337, 3656.0], [23.77487652, -97.3815378, 4206.0], [23.77519565, -97.3875498, 2031.0], [23.77540201, -97.4011053, 4087.0], [23.77584214, -97.5663039, 3883.0], [23.77731986, -97.3183933, 5513.0], [23.77798711, -97.3112887, 6243.0], [23.77834818, -97.4327652, 4625.0], [23.7785834, -97.2027873, 3837.0], [23.7787821, -97.2549521, 1889.0], [23.77889701, -97.2355678, 5208.0], [23.7789202, -97.2755577, 2933.0], [23.7794058, -97.1885141, 4051.0], [23.7795872, -97.3901001, 3488.0], [23.78001335, -97.3798371, 2944.0], [23.78016496, -97.2922533, 3653.0], [23.78035125, -97.1977613, 5917.0], [23.78067153, -97.3973412, 3853.0], [23.78086057, -97.2856745, 4963.0], [23.78092, -97.42751, 5770.0], [23.7814061, -97.3126242, 4166.0], [23.78230113, -97.4668913, 6367.0], [23.78231, -97.28762, 3921.0], [23.78319945, -97.5744756, 3871.0], [23.78326145, -97.3215949, 3795.0], [23.7834115, -97.3785616, 2368.0], [23.78356317, -97.4587206, 7565.0], [23.78372398, -97.579524, 2616.0], [23.78388154, -97.2996344, 2859.0], [23.78408953, -97.1831046, 4254.0], [23.7847066, -97.4376186, 6959.0], [23.7847712, -97.1817724, 3736.0], [23.78478324, -97.257751, 2526.0], [23.78506381, -97.3152261, 5089.0], [23.78701175, -97.2048076, 6119.0], [23.78769104, -97.1801621, 3471.0], [23.78802756, -97.5816339, 3641.0], [23.78826132, -97.3221559, 2498.0], [23.7884407, -97.4929773, 4104.0], [23.78888629, -97.2486119, 4314.0], [23.79000732, -97.2925567, 4427.0], [23.79012564, -97.5867817, 3047.0], [23.79134215, -97.3442534, 3030.0], [23.79195439, -97.3066451, 3600.0], [23.79207194, -97.327194, 1982.0], [23.792897, -97.5983021, 3677.0], [23.79403517, -97.308435, 2855.0], [23.79453728, -97.31218367, 2423.0], [23.79506229, -97.3473883, 5844.0], [23.79574413, -97.5954929, 3487.0], [23.79578328, -97.5853472, 3252.0], [23.79594, -97.29429, 2814.0], [23.79614196, -97.5900105, 4183.0], [23.79622195, -97.3899969, 2597.0], [23.79668822, -97.3812308, 3597.0], [23.79759645, -97.3202995, 2929.0], [23.79779385, -97.2413525, 4546.0], [23.79889234, -97.5698072, 2116.0], [23.79901618, -97.5787981, 4261.0], [23.79918443, -97.3229764, 3702.0], [23.8000397, -97.5678586, 4298.0], [23.80144042, -97.218884, 3764.0], [23.80202412, -97.406104, 3181.0], [23.80262932, -97.586334, 3703.0], [23.803426, -97.305262, 2788.0], [23.80472311, -97.3135927, 3915.0], [23.80600416, -97.5610989, 4981.0], [23.80622838, -97.3391434, 4305.0], [23.8081576, -97.2621127, 4593.0], [23.81078846, -97.2197388, 4431.0], [23.81320061, -97.1073156, 3859.0], [23.81565666, -97.3085776, 7089.0], [23.81709142, -97.3957135, 3922.0], [23.8212558, -97.10702, 3387.0], [23.82206398, -97.3217289, 3850.0], [23.82598744, -97.2958343, 2528.0], [23.8271351, -97.2213546, 3704.0], [23.82794873, -97.281596, 3654.0], [23.84854404, -97.3207249, 3960.0], [23.85045587, -97.1366862, 2670.0], [23.87571921, -97.2896159, 5353.0], [23.89158807, -97.1150552, 5331.0], [23.89827362, -97.1678098, 3142.0], [23.90572215, -97.1617142, 3225.0], [23.91589259, -97.1803954, 4362.0], [23.93055767, -97.3588193, 3549.0], [23.93548474, -97.1842406, 3790.0], [23.94428207, -97.2798347, 5776.0], [23.95941172, -97.2912508, 3365.0], [23.96051324, -97.3014873, 2750.0], [23.96211192, -97.1580442, 4628.0], [23.97445, -97.44234, 5593.0], [24.00167985, -97.5243621, 5412.0], [28.06253211, -112.7222085, 3600.0], [28.47572114, -112.9159066, 3470.0], [28.55916829, -112.9418021, 3147.0], [28.7214948, -112.9894842, 4327.0], [29.32621709, -113.248585, 3884.0], [29.67071698, -113.5132092, 3373.0], [29.70736745, -113.6113081, 5926.0], [29.716051, -113.5719319, 4429.0], [29.72288854, -113.5731333, 3474.0], [29.7544744, -113.5850922, 5382.0], [29.76988069, -113.5656194, 4745.0], [29.7826464, -113.6045637, 4288.0], [29.78342056, -113.5849579, 4120.0], [29.7836523, -113.572407, 3639.0], [29.7867219, -113.5655118, 2722.0], [29.78746513, -113.5923495, 5505.0], [29.79120134, -113.5926118, 2449.0], [29.79208539, -113.5870037, 3894.0], [29.81070044, -113.5904336, 4345.0], [29.81386371, -113.6021095, 4512.0], [29.82750479, -113.6030453, 5863.0], [29.82762948, -113.5827952, 3075.0], [29.83161279, -113.609161, 5290.0], [29.8420317, -113.6034557, 3046.0], [29.84347685, -113.5903215, 3327.0], [29.85025, -113.5695501, 3003.0], [29.85031862, -113.5788527, 2813.0], [29.85068687, -113.5916776, 2951.0], [29.85075591, -113.607588, 3611.0], [29.8541812, -113.5840274, 3431.0], [29.85496617, -113.5672183, 3870.0], [29.85502816, -113.5753796, 3710.0], [29.85621424, -113.6026312, 3228.0], [29.85734106, -113.5927581, 3509.0], [29.85789784, -113.6062794, 3300.0], [29.85854345, -113.6006409, 4102.0], [29.85882657, -113.5849569, 4105.0], [29.85890428, -113.6162171, 4195.0], [29.86261687, -113.5809161, 4680.0], [29.86274975, -113.5874597, 3345.0], [29.86483141, -113.6271476, 5164.0], [29.86543988, -113.6036486, 4684.0], [29.86589842, -113.5837906, 4039.0], [29.86615757, -113.6082748, 2473.0], [29.86636057, -113.5944596, 2790.0], [29.86741058, -113.5971751, 3375.0], [29.86756372, -113.6226591, 5805.0], [29.86936142, -113.64741, 4633.0], [29.87097559, -113.5953008, 4166.0], [29.87238839, -113.6190994, 3353.0], [29.87299896, -113.5853746, 2046.0], [29.87678367, -113.5749006, 4752.0], [29.88119129, -113.6017664, 4518.0], [29.88141852, -113.6224862, 3202.0], [29.88904143, -113.6810917, 3992.0], [29.88909108, -113.5939739, 3851.0], [29.89062947, -113.6923215, 6215.0], [29.89553128, -113.6981797, 9379.0], [29.89651736, -113.5651023, 6050.0], [29.89969865, -113.5540837, 4332.0], [29.90618066, -113.5921876, 3331.0], [29.9087558, -113.5939445, 4572.0], [29.97313852, -113.656282, 3321.0], [29.97654371, -113.6537371, 6403.0], [30.08547041, -113.8821838, 5994.0], [30.093527629999997, -113.8530439, 4758.0], [30.099233169999998, -113.5659488, 5209.0], [30.24472198, -113.9346307, 4595.0], [30.29508697, -114.0388772, 6049.0], [30.304709019999997, -114.0437619, 4872.0], [30.324758590000002, -114.0501635, 5594.0], [30.33771068, -114.0504106, 3884.0], [30.33848896, -114.0555992, 4371.0], [30.3417381, -114.0571708, 8561.0], [30.344515620000003, -114.0519457, 2396.0], [30.3465396, -114.0471783, 3867.0], [30.347099999999998, -114.0105, 3002.0], [30.347669240000002, -114.0434674, 3789.0], [30.350584150000003, -114.0558262, 3175.0], [30.353571199999998, -114.0498025, 3267.0], [30.360581689999997, -114.0494565, 3187.0], [30.36309454, -114.0527652, 3444.0], [30.36496836, -114.0501669, 2798.0], [30.365516030000002, -114.045445, 3648.0], [30.36728805, -114.0435887, 2320.0], [30.368953920000003, -113.9244319, 1994.0], [30.369289690000002, -114.0604035, 4305.0], [30.369450389999997, -114.0511821, 3126.0], [30.37134373, -114.0514016, 3160.0], [30.375603499999997, -113.9322273, 5373.0], [30.375780229999997, -114.0527517, 2921.0], [30.381651310000002, -114.0603868, 4389.0], [30.383279880000003, -113.9359037, 4224.0], [30.39062464, -113.9557338, 4463.0], [30.39166352, -114.0512531, 3119.0], [30.409932689999998, -113.9671005, 4261.0], [30.420035040000002, -114.0292256, 3126.0], [30.42082705, -113.969953, 4892.0], [30.426829079999997, -113.9683755, 5489.0], [30.430903450000002, -113.9453524, 3227.0], [30.43274994, -114.0418801, 5550.0], [30.433301890000003, -114.0324632, 3953.0], [30.43385379, -114.0240596, 5571.0], [30.43434241, -113.9527205, 4221.0], [30.43474775, -114.0652988, 3208.0], [30.43526481, -114.0313418, 5717.0], [30.43686229, -113.987681, 3835.0], [30.438022779999997, -114.0317499, 4080.0], [30.43945016, -113.9227598, 5272.0], [30.441236439999997, -114.0143259, 2969.0], [30.441471489999998, -113.9325175, 5508.0], [30.4414783, -114.0402733, 4812.0], [30.441552780000002, -114.040381, 3462.0], [30.4418862, -114.0370771, 3548.0], [30.442322519999998, -114.0283309, 4053.0], [30.44275116, -114.057792, 3409.0], [30.442880979999998, -114.0265568, 3740.0], [30.443500880000002, -114.0627007, 6903.0], [30.447910720000003, -114.0578129, 5143.0], [30.44820234, -114.0430931, 4996.0], [30.45312455, -113.922755, 4114.0], [30.454979880000003, -114.0359134, 3390.0], [30.45624643, -113.8874961, 4315.0], [30.457844450000003, -113.8271273, 7420.0], [30.45792712, -113.8389833, 5166.0], [30.458889210000002, -114.0002998, 2637.0], [30.45990467, -113.8727707, 4387.0], [30.460141200000002, -113.8742909, 5898.0], [30.461091500000002, -113.83852, 5184.0], [30.461396819999997, -113.9633976, 3720.0], [30.46207673, -113.9671695, 3743.0], [30.46216279, -113.9305435, 6009.0], [30.46250845, -113.8579837, 6065.0], [30.462838150000003, -113.8300043, 4550.0], [30.4633745, -113.8209438, 4007.0], [30.46357347, -113.9734156, 5116.0], [30.46392933, -114.0082144, 2143.0], [30.46414086, -113.898832, 3063.0], [30.465216140000003, -113.953895, 4805.0], [30.465534769999998, -113.9054583, 3353.0], [30.465833600000003, -113.9809259, 3935.0], [30.46700244, -113.8772523, 3140.0], [30.46706638, -114.0128266, 2842.0], [30.467996149999998, -114.004953, 5929.0], [30.4682337, -113.9255538, 4493.0], [30.46853945, -113.8493179, 5107.0], [30.468553030000002, -113.8469039, 7605.0], [30.468759, -113.9325544, 6504.0], [30.47029095, -113.8445516, 5518.0], [30.47080613, -113.8188812, 5553.0], [30.470887589999997, -113.7907663, 8450.0], [30.47147588, -113.9494388, 3260.0], [30.47244044, -113.9426754, 4499.0], [30.47256635, -113.9550148, 4817.0], [30.47303042, -113.8592272, 3555.0], [30.473340620000002, -113.8823875, 4875.0], [30.4748241, -113.8499745, 4203.0], [30.475437200000002, -113.860182, 4377.0], [30.47715186, -114.0108625, 3206.0], [30.4771808, -113.8760688, 5018.0], [30.477620880000003, -113.9270273, 9667.0], [30.47804205, -113.8715188, 2687.0], [30.47937424, -113.935479, 3331.0], [30.479679939999997, -113.9157474, 3935.0], [30.479799229999998, -113.8393834, 4275.0], [30.479995959999997, -113.9898242, 4601.0], [30.481942439999997, -113.9954426, 5233.0], [30.482134379999998, -113.9779424, 5068.0], [30.482499400000002, -114.0466473, 3965.0], [30.48258896, -114.0369768, 2631.0], [30.48390258, -113.9996889, 3715.0], [30.4845447, -113.8585196, 3252.0], [30.48472349, -114.0681108, 4991.0], [30.48491068, -113.9908018, 2241.0], [30.48498886, -113.9758647, 3869.0], [30.485247020000003, -113.9417199, 3068.0], [30.486610489999997, -113.9474594, 2301.0], [30.48678304, -113.8467601, 5490.0], [30.48710949, -114.031139, 4985.0], [30.487684790000003, -113.8688032, 5302.0], [30.48779855, -113.8805731, 2694.0], [30.48797941, -113.9963442, 3919.0], [30.488300189999997, -114.0119058, 3658.0], [30.489000840000003, -113.9371805, 3853.0], [30.48981466, -113.8551352, 3058.0], [30.490179599999998, -113.9470253, 5011.0], [30.49066776, -113.8533215, 5667.0], [30.49132116, -113.9534561, 2843.0], [30.491805499999998, -113.9293224, 3757.0], [30.49186752, -113.920271, 4350.0], [30.49187086, -113.955311, 2989.0], [30.49205003, -113.8763344, 4775.0], [30.49280391, -113.9709181, 4590.0], [30.493469150000003, -113.8577421, 4730.0], [30.49456318, -113.9014339, 6235.0], [30.494953440000003, -113.9064234, 3862.0], [30.4950422, -114.0369076, 3363.0], [30.495659000000003, -113.8789041, 2197.0], [30.49676075, -113.9758469, 3097.0], [30.49710675, -114.0328706, 4360.0], [30.497137440000003, -113.9609821, 4292.0], [30.49745221, -113.9628815, 4728.0], [30.497518839999998, -113.9905125, 3300.0], [30.498044890000003, -113.8619366, 4911.0], [30.4981194, -113.9648329, 3217.0], [30.49816439, -113.908246, 5274.0], [30.498598469999997, -113.8947366, 3062.0], [30.499091569999997, -113.8758487, 2520.0], [30.49980877, -113.9088657, 5499.0], [30.49992193, -113.7152863, 6886.0], [30.50013665, -113.9167483, 3858.0], [30.50065703, -113.8899287, 2395.0], [30.500802569999998, -113.8546055, 6945.0], [30.501058710000002, -113.8894004, 3564.0], [30.501235100000002, -113.9378821, 3707.0], [30.50182453, -113.8980845, 6039.0], [30.50223441, -113.8604112, 3768.0], [30.50230671, -113.9035719, 4548.0], [30.502772210000003, -113.9733873, 4489.0], [30.502935979999997, -114.0224245, 4258.0], [30.50322171, -113.9687057, 5658.0], [30.50329866, -113.9768547, 3831.0], [30.503685580000003, -113.9986576, 5817.0], [30.504192590000002, -113.8427285, 5347.0], [30.504872040000002, -114.0071757, 3655.0], [30.504960150000002, -113.9718297, 4098.0], [30.50516329, -113.9338244, 5151.0], [30.505296800000004, -113.954367, 3349.0], [30.505742599999998, -113.8778331, 3744.0], [30.5058, -113.8761, 2217.0], [30.50589224, -113.8678288, 4904.0], [30.506212050000002, -113.8652673, 3729.0], [30.507077529999997, -113.7333715, 7219.0], [30.507286890000003, -113.9640189, 4752.0], [30.50793103, -113.9191792, 4585.0], [30.50894702, -113.9864373, 4767.0], [30.509459630000002, -113.8557157, 3012.0], [30.509478520000002, -114.0562245, 2411.0], [30.50964786, -113.9534617, 4875.0], [30.510532419999997, -113.8720302, 3992.0], [30.511022099999998, -113.961292, 3963.0], [30.511067429999997, -113.8614835, 4391.0], [30.51164557, -114.12021, 4522.0], [30.51181081, -113.8976727, 4383.0], [30.512309530000003, -113.9867912, 3043.0], [30.512825319999997, -114.061417, 2668.0], [30.51301504, -113.7758339, 5146.0], [30.51301572, -113.8928295, 2762.0], [30.513092559999997, -113.7296653, 5359.0], [30.51332668, -113.961338, 3697.0], [30.513386410000003, -113.8544023, 3581.0], [30.513524869999998, -114.0336636, 3220.0], [30.51364643, -113.9031574, 4020.0], [30.51381681, -113.880781, 3052.0], [30.51414646, -113.8586895, 4453.0], [30.514694740000003, -113.9478497, 3208.0], [30.514952700000002, -113.8919661, 1735.0], [30.515280259999997, -113.8956233, 4468.0], [30.515482929999997, -114.0156242, 5967.0], [30.5157431, -113.8676154, 3194.0], [30.51604862, -114.1196835, 3053.0], [30.516176950000002, -114.1125151, 5556.0], [30.516261720000003, -114.0839356, 3974.0], [30.516419470000002, -114.1163514, 4121.0], [30.517109689999998, -113.9809523, 3485.0], [30.518474259999998, -114.0168878, 6649.0], [30.51896586, -113.8894596, 3748.0], [30.51920447, -114.0116822, 4680.0], [30.51939935, -114.0240198, 4232.0], [30.519453480000003, -113.8643152, 3493.0], [30.519579499999992, -113.9825586, 4556.0], [30.519883980000003, -113.9905611, 6485.0], [30.52008393, -114.0874358, 3270.0], [30.52041302, -113.6246037, 5819.0], [30.521363100000002, -114.1163351, 4454.0], [30.52155202, -114.0305886, 4824.0], [30.52156522, -113.9248838, 5182.0], [30.522670159999997, -113.869397, 2330.0], [30.522739970000003, -114.0273928, 3491.0], [30.52282014, -114.0749188, 3745.0], [30.52299016, -113.861428, 1931.0], [30.52317694, -113.931241, 2764.0], [30.52319524, -114.015888, 3949.0], [30.52327399, -114.1081798, 3037.0], [30.523571439999998, -114.0626682, 4185.0], [30.52365786, -114.0204889, 6793.0], [30.52375577, -113.8905684, 3256.0], [30.524910480000003, -114.1124683, 3353.0], [30.52508857, -114.1198544, 3031.0], [30.5253188, -113.9339667, 4859.0], [30.52555717, -114.0164822, 3263.0], [30.52612012, -113.9166146, 4002.0], [30.526194869999998, -114.0292579, 2748.0], [30.526322729999997, -114.065141, 3445.0], [30.526999080000003, -113.9826428, 4007.0], [30.52710407, -114.0886838, 4275.0], [30.527691760000003, -114.0059468, 4287.0], [30.527850630000003, -113.9478502, 6287.0], [30.527928850000002, -114.0725975, 4506.0], [30.528430540000002, -113.9884256, 3933.0], [30.52894792, -114.0272318, 4846.0], [30.529231860000003, -113.9814965, 5670.0], [30.530112420000002, -113.9705076, 6588.0], [30.53032787, -114.1151938, 2522.0], [30.530588559999998, -114.0149655, 3316.0], [30.53071276, -114.1127817, 3616.0], [30.530746530000002, -114.1022435, 3243.0], [30.530833989999998, -113.8777615, 6685.0], [30.531489360000002, -114.0760025, 3365.0], [30.53182923, -113.9284524, 3709.0], [30.531990989999997, -113.947676, 4095.0], [30.532941200000003, -114.0904528, 4950.0], [30.533113819999997, -114.0484551, 3772.0], [30.533234720000003, -114.0220828, 3339.0], [30.533271569999997, -114.0367983, 4390.0], [30.533549379999997, -114.0976098, 3961.0], [30.53395133, -114.0365836, 2508.0], [30.53465363, -114.0212933, 3624.0], [30.53546087, -113.8710397, 5862.0], [30.537391069999998, -114.078415, 2236.0], [30.537763169999998, -113.919121, 3457.0], [30.53786127, -114.0571623, 4903.0], [30.538837479999998, -113.9143597, 4780.0], [30.53884918, -113.9134917, 2853.0], [30.53964912, -114.0192227, 4490.0], [30.540040339999997, -114.0031454, 3209.0], [30.541315259999998, -113.9978714, 6208.0], [30.541999779999998, -113.9947675, 4727.0], [30.54318887, -113.9396118, 6699.0], [30.54348323, -113.6325076, 4900.0], [30.54375269999999, -113.9329423, 4110.0], [30.54384495, -113.9366623, 7155.0], [30.544693520000003, -113.6300563, 3179.0], [30.545746289999997, -113.9092253, 6006.0], [30.54672205, -113.9216501, 4508.0], [30.5467758, -113.8932017, 4337.0], [30.55315642, -113.8838185, 2935.0], [30.558076730000003, -113.630843, 3567.0], [30.562379030000002, -113.6037666, 4926.0], [30.56421908, -113.6258868, 3336.0], [30.56566095, -113.5852394, 7681.0], [30.56585468, -113.6317709, 3855.0], [30.56845208, -113.6250928, 3671.0], [30.570716930000003, -113.6505437, 4603.0], [30.57136371, -113.6200298, 3275.0], [30.571379110000002, -113.6344108, 3584.0], [30.57498277, -113.6102, 4457.0]],\n                {\n  &quot;minOpacity&quot;: 0.5,\n  &quot;maxZoom&quot;: 18,\n  &quot;radius&quot;: 18,\n  &quot;blur&quot;: 15,\n}\n            );\n        \n    \n            heat_map_76b24769332bd9330b52ed18dd0963a6.addTo(map_39dd540398ab33b067ca7e5e0bed4490);\n        \n&lt;/script&gt;\n&lt;/html&gt;\" style=\"position:absolute;width:100%;height:100%;left:0;top:0;border:none !important;\" allowfullscreen webkitallowfullscreen mozallowfullscreen></iframe></div></div>"
          },
          "metadata": {}
        }
      ],
      "execution_count": null
    },
    {
      "cell_type": "markdown",
      "source": [
        "✅ Quick Summary of Data Quality\n",
        "- Rows: ~127M records.\n",
        "- Missing values: quantity and total_amount each have 6.3M missing entries (~5% of the data).\n",
        "- Timestamps range from 2023-10-05 to 2024-08-21, so we’ve got ~10.5 months of data."
      ],
      "metadata": {
        "id": "V2B6xDJtNX19"
      }
    },
    {
      "cell_type": "markdown",
      "source": [
        "✅ Missing Data is Spread Across the Entire Time Range\n",
        "- First date of missing values: 2023-10-05\n",
        "- Last date of missing values: 2024-08-21\n",
        "    \n",
        "This matches exactly with the full dataset's time range, which implies:\n",
        "- The missing sales data is not isolated to any short timeframe.\n",
        "- This is likely a systematic issue, possibly intermittent data loss or unlogged values across the full period.\n",
        "\n",
        "📊 Missing Volume Appears to Increase Over Time\n",
        "- Early dates (Oct 2023) have ~2K–3K missing rows/day.\n",
        "- Later dates (Aug 2024) have ~30K–38K missing rows/day.\n",
        "  \n",
        "This could indicate:\n",
        "- Growth in data volume over time — more stores or transactions later in the year.\n",
        "- A deteriorating logging pipeline — later periods may have more recording failures."
      ],
      "metadata": {
        "id": "sQkKgaAoNX19"
      }
    },
    {
      "cell_type": "markdown",
      "source": [
        "🔍 Interpretation of missing values (**products**)\n",
        "- Product 27 alone is responsible for ~10% of all missing values (674k out of 6.3M)!\n",
        "- The top 3–5 products likely contribute the majority of missing rows.\n",
        "- These may represent frequently sold products where data corruption is more likely.\n",
        "- The missing data ratio is very consistent (~5%) across all major & top products across the dataset.\n",
        "- This strongly suggests that the missing entries are systematic and uniform, rather than caused by specific product issues.\n",
        "- Most likely root cause: a consistent logging issue or ETL bug across the board rather than isolated product problems.\n",
        "\n",
        "🔍 Interpretation of missing values (**stores**)\n",
        "- The first location (19.138962, -83.769004) has ~11.2K missing entries, making it the most affected.\n",
        "- Most of the others are clustered around 23.6 to 23.7° latitude and -97.3° longitude, likely representing a group of nearby stores — possibly the same city or chain location.\n",
        "- This could mean:\n",
        "  \n",
        "     - Store-level logging issues, e.g., faulty POS systems.\n",
        "     - Regional network disruptions (especially if many stores are clustered in one area).\n",
        "\n",
        "💡 **Conclusion**\n",
        "\n",
        "Missing data occurs uniformly over time and across top products. It'sikely systemic issue, not tied to specific dates, stores, or items. Thus we can **safely drop missing rows** for trend analysis, as they appear random and proportionally distributed."
      ],
      "metadata": {
        "id": "xfi9c-6_NX19"
      }
    },
    {
      "cell_type": "code",
      "source": [],
      "metadata": {
        "id": "3m5GDf1vOcCx"
      },
      "execution_count": null,
      "outputs": []
    }
  ]
}